{
 "cells": [
  {
   "cell_type": "markdown",
   "metadata": {},
   "source": [
    "# Housing: coherent assembly of plugins "
   ]
  },
  {
   "cell_type": "markdown",
   "metadata": {},
   "source": [
    "### I generated two house's models, and I have invented them."
   ]
  },
  {
   "cell_type": "markdown",
   "metadata": {},
   "source": [
    "### I generated the svg files with inkscape and generated the .lines files with cvdlab tool. The full svg files are in directory svg. The name of the .lines files have a structure \"nth_model_structure_numberOfFloors.lines\", and they are in the main directory."
   ]
  },
  {
   "cell_type": "markdown",
   "metadata": {},
   "source": [
    "## Description of the code"
   ]
  },
  {
   "cell_type": "markdown",
   "metadata": {},
   "source": [
    "### Main function:"
   ]
  },
  {
   "cell_type": "code",
   "execution_count": 1,
   "metadata": {
    "collapsed": true
   },
   "outputs": [],
   "source": [
    "def multistorey_house(nFloors, baseString, xfactor, yfactor, zfactor):\n",
    "\t\"\"\"\n",
    "\tmultistorey_house is a function that return the function that calculate the HPC Model represent the house.\n",
    "\t@param nFloor: represent the number of floors.\n",
    "\t@param baseString: String represent the prefix of the .lines files.\n",
    "\t@param xfactor: Float represent the factor to scale and calculate height.\n",
    "\t@param yfactor: Float represent the factor to scale and calculate height.\n",
    "\t@param zfactor: Float represent the factor to scale and calculate height.\n",
    "\t@return renderWindows: Function that calculate the HPC Model.\n",
    "\t\"\"\"\n",
    "\tdef renderWindows(XWindow, YWindow, occurrencyWindow):\n",
    "\t\t\"\"\"\n",
    "\t\trenderWindows is a function that return the function that calculate the HPC Model represent the house.\n",
    "\t\t@param XWindow: Float list of asix X of the window cells\n",
    "\t\t@param YWindow: Float list of asix Y of the window cells\n",
    "\t\t@param occurrencyWindow: Bool matrix that represent the full cell and empty cell.\n",
    "\t\t@return renderDoors: Function that calculate the HPC Model.\n",
    "\t\t\"\"\"\n",
    "\t\tdef renderDoors(XDoor, YDoor, occurencyDoor):\n",
    "\t\t\t\"\"\"\n",
    "\t\t\trenderDoors is a function that return the function that calculate the HPC Model represent the house.\n",
    "\t\t\t@param XDoor: Float list of asix X of the door cells.\n",
    "\t\t\t@param YDoor: Float list of asix Y of the door cells.\n",
    "\t\t\t@param occurencyDoor: Bool matrix that represent the full cells and empty cells.\n",
    "\t\t\t@return renderFloor: Function that calculate the HPC Model.\n",
    "\t\t\t\"\"\"\n",
    "\t\t\tdef renderFloor(verts, angle, height):\n",
    "\t\t\t\t\"\"\"\n",
    "\t\t\t\trenderFloor is a function that return the HPC Model represent the house.\n",
    "\t\t\t\t@param verts: list of list of integer represent the verts that define the shape of roof bottom.\n",
    "\t\t\t\t@param angle: integer represent the angle used to rotate the planes.\n",
    "\t\t\t\t@param height: integer represent the height of the roof.\n",
    "\t\t\t\t@return house: HPC Model represent the house.\n",
    "\t\t\t\t\"\"\"\n",
    "\t\t\t\tall_floor = []\n",
    "\t\t\t\t#building roof model\n",
    "\t\t\t\twith open(verts) as file:\n",
    "\t\t\t\t\treader = csv.reader(file, delimiter=\",\")\n",
    "\t\t\t\t\tnew_verts = []\n",
    "\t\t\t\t\tfor row in reader:\n",
    "\t\t\t\t\t\tnew_verts.append([float(row[0]), float(row[1])])\n",
    "\t\t\t\t\troofModel = roof_builder.buildRoof(new_verts, angle, height)\n",
    "\t\t\t\t\troofModel = T([3])([nFloors*3/zfactor])(roofModel)\n",
    "\t\t\t\t\troofModel = S([1,2,3])([xfactor*1.09, yfactor*1.09, zfactor])(roofModel)\n",
    "\t\t\t\t\troofModel = T([1,2])([-SIZE([1])(roofModel)[0]*0.05, -SIZE([2])(roofModel)[0]*0.05])(roofModel)\n",
    "\n",
    "\t\t\t\tfor i in range(nFloors):\n",
    "\t\t\t\t\tfloor_lines = [baseString + '_muri_esterni_'+str(i+1)+'.lines', baseString + '_muri_interni_'+str(i+1)+'.lines', baseString + '_porte_'+str(i+1)+'.lines', baseString + '_finestre_'+str(i+1)+'.lines', baseString + '_scale_'+str(i)+'.lines', baseString + '_scale_'+str(i+1)+'.lines']\n",
    "\t\t\t\t\tfloor = build_floor.ggpl_building_house(floor_lines, \n",
    "\t\t\t\t\t\twindowsDoors.window_main(XWindow,YWindow,occurrencyWindow), \n",
    "\t\t\t\t\t\twindowsDoors.door_main(YDoor, XDoor, occurencyDoor), \n",
    "\t\t\t\t\t\tquarterTurnStairs, i, nFloors-1)\n",
    "\t\t\t\t\tall_floor.append(floor)\n",
    "\t\t\t\t\n",
    "\t\t\t\tall_floor = STRUCT(all_floor)\n",
    "\t\t\t\treturn STRUCT([all_floor, roofModel])\n",
    "\t\t\treturn renderFloor\n",
    "\t\treturn renderDoors\n",
    "\treturn renderWindows"
   ]
  },
  {
   "cell_type": "markdown",
   "metadata": {},
   "source": [
    "### In this function I builded the roof (workshop_09) and invoke a function ggpl_building_house (workshop_08) for each floor. I use the currying for this main function. "
   ]
  },
  {
   "cell_type": "markdown",
   "metadata": {},
   "source": [
    "### List of the variables:\n",
    "* new_verts: represent the verts in float type.\n",
    "* roofModel: represent the HPC of the roof.\n",
    "* floor_lines: List of string represent the name of the files.\n",
    "* windowsDoors: Imported module represent the workshop_07.\n",
    "* all_floor: The complete structure without the roof."
   ]
  },
  {
   "cell_type": "markdown",
   "metadata": {},
   "source": [
    "### The code of the workshop_09: "
   ]
  },
  {
   "cell_type": "code",
   "execution_count": 2,
   "metadata": {
    "collapsed": false
   },
   "outputs": [
    {
     "name": "stdout",
     "output_type": "stream",
     "text": [
      "Evaluating fenvs.py..\n",
      "...fenvs.py imported in 0.008159 seconds\n"
     ]
    }
   ],
   "source": [
    "from pyplasm import *\n",
    "from sympy import *\n",
    "import numpy as np\n",
    "\n",
    "def transformList2CoupledList(initList):\n",
    "\t\"\"\"\n",
    "\ttransformList2CoupledList is a function that return a list containing, for every element in the initList, a couple (python tuple)\n",
    "\tmade by the original element and its successor.\n",
    "\tExample : [1,2,3] -> [[1,2], [2,3], [3,1]]\n",
    "\t@param initList: integer list represent the initial list.\n",
    "\t@return coupleList: list of list of integer, represent the couple list.\n",
    "\t\"\"\"\n",
    "\tresult = []\n",
    "\tfor element in range(len(initList)-1):\n",
    "\t\tresult.append([initList[element], initList[element+1]])\n",
    "\tresult.append([initList[-1], initList[0]])\n",
    "\treturn result\n",
    "\n",
    "def get4CoefficientsOfThePlane(angle, line):\n",
    "\t\"\"\"\n",
    "\tget4CoefficientsOfThePlane is a function that from angle and line, return a list containing the 4 coefficients that describe \n",
    "\ta plane passing through the line.\n",
    "\t@param angle: integer represent the angle used to rotate the planes.\n",
    "\t@param line: couple represent the verts of the line.\n",
    "\t@return planesParam: list that contain the 4 coefficients. \n",
    "\t\"\"\"\n",
    "\tpartialPlane = PROD([POLYLINE(line), QUOTE([2])])\n",
    "\tpartialPlane = T([1,2])([-line[0][0], -line[0][1]])(partialPlane)\n",
    "\tpartialPlane = ROTN([-angle, [line[1][0] - line[0][0], line[1][1] - line[0][1], 0]])(partialPlane)\n",
    "\tpartialPlane = T([1,2])([+line[0][0], +line[0][1]])(partialPlane)\n",
    "\t#obtain 3 points \n",
    "\tpoints = []\n",
    "\tpoints.append(UKPOL(partialPlane)[0][0])\n",
    "\tpoints.append(UKPOL(partialPlane)[0][1])\n",
    "\tpoints.append(UKPOL(partialPlane)[0][2])\n",
    "\n",
    "\tx1 = points[0][0]\n",
    "\tx2 = points[1][0]\n",
    "\tx3 = points[2][0]\n",
    "\ty1 = points[0][1]\n",
    "\ty2 = points[1][1]\n",
    "\ty3 = points[2][1]\n",
    "\tz1 = points[0][2]\n",
    "\tz2 = points[1][2]\n",
    "\tz3 = points[2][2]\n",
    "\n",
    "\t#calculate the vectors\n",
    "\tp1 = np.array([x1, y1, z1])\n",
    "\tp2 = np.array([x2, y2, z2])\n",
    "\tp3 = np.array([x3, y3, z3])\n",
    "\n",
    "\tv1 = p3 - p1\n",
    "\tv2 = p2 - p1 \n",
    "\t# this is a vector normal to the plane\n",
    "\tcp = np.cross(v1, v2)\n",
    "\ta, b, c = cp \n",
    "\n",
    "\t# This evaluates a * x3 + b * y3 + c * z3 which equals d\n",
    "\td = np.dot(cp, p3)\n",
    "\n",
    "\treturn [a,b,c,d]\n",
    "\n",
    "\n",
    "def buildRoof(verts, angle, height):\n",
    "\t\"\"\"\n",
    "\tbuildRoof is a function that return a HPC Model represent the roof from the verts, angle and height.\n",
    "\t@param verts: list of list of integer represent the verts that define the shape of roof bottom.\n",
    "\t@param angle: integer represent the angle used to rotate the planes.\n",
    "\t@param height: integer represent the height of the roof.\n",
    "\t@return roof: HPC Model represent the roof.\n",
    "\t\"\"\"\n",
    "\tlines = transformList2CoupledList(verts)\n",
    "\n",
    "\tbase = SOLIDIFY(POLYLINE(verts + [verts[0]]))\n",
    "\n",
    "\tplanes = []\n",
    "\n",
    "\tfor line in lines:\n",
    "\t\tplanes.append(get4CoefficientsOfThePlane(angle, line))\n",
    "\n",
    "\tcouplePlanes = transformList2CoupledList(planes)\n",
    "\n",
    "\troofTop = []\n",
    "\tlinesEquations = []\n",
    "\n",
    "\t# calculating equations with planes intersection\n",
    "\tfor couple in couplePlanes:\n",
    "\t\tx, y, z = symbols('x y z')\n",
    "\t\tsolved = solve([Eq(couple[0][0]*x+couple[0][1]*y+couple[0][2]*z, couple[0][3]), \n",
    "\t\t\t\t\t\tEq(couple[1][0]*x+couple[1][1]*y+couple[1][2]*z, couple[1][3])])\n",
    "\t\tlinesEquations.append(solved)\n",
    "\t\troofTop.append([round(float(solved[x].subs(z,height)),2), round(float(solved[y].subs(z,height)),2)])\n",
    "\n",
    "\troofTop.append(roofTop[0])\n",
    "\tterrace = T([3])([height])(SOLIDIFY(POLYLINE(roofTop)))\n",
    "\n",
    "\tcoupleLines = transformList2CoupledList(linesEquations)\n",
    "\troofPitch = []\n",
    "\n",
    "\t#building roof pitches\n",
    "\tfor couple in coupleLines:\n",
    "\t\tbase1 = [round(float((couple[0])[x].subs(z,0)),2),round(float((couple[0])[y].subs(z,0)),2),0]\n",
    "\t\tbase2 = [round(float((couple[1])[x].subs(z,0)),2),round(float((couple[1])[y].subs(z,0)),2),0]\n",
    "\t\ttop1 = [round(float((couple[0])[x].subs(z,height)),2),round(float((couple[0])[y].subs(z,height)),2),height]\n",
    "\t\ttop2 = [round(float((couple[1])[x].subs(z,height)),2),round(float((couple[1])[y].subs(z,height)),2),height]\n",
    "\t\tpoints = [base1, base2, top2, top1, base1]\n",
    "\t\tfaces = [[1,2,3,4]]\n",
    "\t\troofPitch.append(TEXTURE(\"texture/roof.jpg\")(MKPOL([points, faces, 1])))\n",
    "\n",
    "\troofPitch = STRUCT(roofPitch)\n",
    "\n",
    "\treturn STRUCT([TEXTURE(\"texture/surface.jpg\")(terrace), base, roofPitch])\n",
    "\n"
   ]
  },
  {
   "cell_type": "markdown",
   "metadata": {},
   "source": [
    "### The code is the same of the workshop_09."
   ]
  },
  {
   "cell_type": "markdown",
   "metadata": {},
   "source": [
    "### The code of the workshop_08:"
   ]
  },
  {
   "cell_type": "code",
   "execution_count": 3,
   "metadata": {
    "collapsed": true
   },
   "outputs": [],
   "source": [
    "from pyplasm import *\n",
    "import csv\n",
    "\n",
    "def build_ladder(fileLadder, xfactor, ladderBuilder):\n",
    "\t\"\"\"\n",
    "\tbuild_ladder is a function that generate a HPC Model represent the ladder of the storey.\n",
    "\t@param fileLadder: String represent the name of the file to read.\n",
    "\t@param xfactor: Float represent a value for calculate the height of the ladder.\n",
    "\t@param ladderBuilder: Module for invoke the function that build a ladder.\n",
    "\t@return ladder: HPC Model represent the ladder.\n",
    "\t\"\"\"\n",
    "\twith open(fileLadder, \"rb\") as file:\n",
    "\t\treader = csv.reader(file, delimiter=\",\")\n",
    "\t\tladderX = 0\n",
    "\t\tladderY = 0\n",
    "\t\tminX = 1000000\n",
    "\t\tminY = 1000000\n",
    "\t\tfor row in reader:\n",
    "\t\t\tif(minX > float(row[0])):\n",
    "\t\t\t\tminX = float(row[0])\n",
    "\t\t\telif(minX > float(row[2])):\n",
    "\t\t\t\tminX = float(row[2])\n",
    "\t\t\telif(minY > float(row[1])):\n",
    "\t\t\t\tminY = float(row[1])\n",
    "\t\t\telif(minY > float(row[3])):\n",
    "\t\t\t\tminY = float(row[3])\n",
    "\t\t\tif(float(row[0]) == float(row[2])):\n",
    "\t\t\t\tladderY = float(row[1]) - float(row[3])\n",
    "\t\t\telif(float(row[1]) == float(row[3])):\n",
    "\t\t\t\tladderX = float(row[0]) - float(row[2])\n",
    "\t\tif(ladderX < 0):\n",
    "\t\t\tladderX = -ladderX\n",
    "\t\telif(ladderY < 0):\n",
    "\t\t\tladderY = -ladderY\n",
    "\t\tladder = ladderBuilder.ggpl_single_stair(ladderX, ladderY, 3/xfactor)\n",
    "\t\tladder = T([1,2])([minX, minY])(ladder)\n",
    "\t\tprint fileLadder\n",
    "\t\treturn ladder\n",
    "\n",
    "def build_concrete_objects(fileOpen, offset, xfactor, type, externalWalls, windowsFunction, doorsFunction): \n",
    "\t\"\"\"\n",
    "\tbuild_concrete_objects is a function that generate a list of HPC Models, that represent the windows or the doors.\n",
    "\t@param fileOpen: String represent the name of the file to read.\n",
    "\t@param offset: Integer represent the offset of the external walls or internal walls.\n",
    "\t@param xfactor: Float represent a value for calculate the height of the window or the door.\n",
    "\t@param type: String that define if the object is a door or window.\n",
    "\t@param externalWalls: HPC Model represent the external walls, for calculate the translation of the asix z.\n",
    "\t@param windowsFunction: Function that generate a HPC Model represent the window.\n",
    "\t@param doorsFunction: Function that generate a HPC Model represent the door.\n",
    "\t@return concreteList: List that contain a HPC Models of windows or doors, based on type.\n",
    "\t\"\"\"\n",
    "\twith open(fileOpen, \"rb\") as file:\n",
    "\t\treader = csv.reader(file, delimiter=\",\")\n",
    "\t\tconcreteList = []\n",
    "\t\tfor row in reader:\n",
    "\t\t\twidth = 0\n",
    "\t\t\tif(float(row[0]) == float(row[2])):\n",
    "\t\t\t\twidth = float(row[3]) - float(row[1])\n",
    "\t\t\tif(float(row[1]) == float(row[3])):\n",
    "\t\t\t\twidth = float(row[2]) - float(row[0])\n",
    "\t\t\t#add the cuboid offset.\n",
    "\t\t\twidth = width + offset \n",
    "\t\t\tif(type == \"window\"):\n",
    "\t\t\t\tobjectConcrete = windowsFunction(width, 12., (SIZE([3])(externalWalls)[0]/2.))\n",
    "\t\t\telif(type == \"door\"):\n",
    "\t\t\t\tobjectConcrete = doorsFunction(width, 12., float(2.5/xfactor))\n",
    "\t\t\tif(float(row[0]) == float(row[2])):\n",
    "\t\t\t\tobjectConcrete = R([1,2])(-PI/2.)(objectConcrete)\n",
    "\t\t\t\tobjectConcrete = T([2])(width)(objectConcrete)\n",
    "\t\t\tif(type == \"window\"):\n",
    "\t\t\t\tobjectConcrete = T([1,2,3])([float(row[0]), float(row[1]), (SIZE([3])(externalWalls)[0]/4.)])(objectConcrete)\n",
    "\t\t\telif(type == \"door\"):\n",
    "\t\t\t\tobjectConcrete = T([1,2])([float(row[0]), float(row[1])])(objectConcrete)\n",
    "\t\t\tconcreteList.append(objectConcrete)\n",
    "\t\treturn concreteList\n",
    "\n",
    "def create_walls(fileOpen):\n",
    "\t\"\"\"\n",
    "\tcreate_walls is a function that generate a line of the walls.\n",
    "\t@param fileOpen: String represent the name of the file to read.\n",
    "\t@return listWalls: List that contain a line of the internal walls or external walls.\n",
    "\t\"\"\"\n",
    "\twith open(fileOpen, \"rb\") as file:\n",
    "\t\treader = csv.reader(file, delimiter=\",\")\n",
    "\t\tlistWalls = []\n",
    "\t\tfor row in reader:\n",
    "\t\t\tlistWalls.append(POLYLINE([[float(row[0]), float(row[1])],[float(row[2]), float(row[3])]]))\n",
    "\t\treturn listWalls\n",
    "\n",
    "def ggpl_building_house(lines, windowsFunction, doorsFunction, ladderBuilder, floorNumber, totalNumberOfFloors):\n",
    "\t\"\"\"\n",
    "\tggpl_building_house is a function that generate the HPC Model represent the n storey structure.\n",
    "\t@param lines: List of string, that contain the name of the files to read.\n",
    "\t@param windowsFunction: Function that generate a HPC Model represent the window.\n",
    "\t@param doorsFunction: Function that generate a HPC Model represent the door.\n",
    "\t@param ladderBuilder: Module for invoke the function that build a ladder.\n",
    "\t@param floorNumber: Integer represent the number of the current floor.\n",
    "\t@param totalNumberOfFloors: Integer represent the number of the total floor.\n",
    "\t@return house_building: HPC Model represent the storey structure.\n",
    "\t\"\"\"\n",
    "\t\n",
    "\t#create external walls \n",
    "\tlistExternalWalls = create_walls(lines[0])\n",
    "\texternalWalls = STRUCT(listExternalWalls)\n",
    "\n",
    "\t#create floor\n",
    "\tfloor = SOLIDIFY(externalWalls)\n",
    "\tfloor = PROD([floor, Q(1)])\n",
    "\n",
    "\t#define scale factor\n",
    "\txfactor = 15/SIZE([1])(externalWalls)[0]\n",
    "\tyfactor = 15.1/SIZE([2])(externalWalls)[0]\n",
    "\n",
    "\t#remove the space of the ladder from second to the last floor\t\n",
    "\tif(floorNumber != 0):\n",
    "\t\twith open(lines[4], \"rb\") as file:\n",
    "\t\t\treader = csv.reader(file, delimiter=\",\")\n",
    "\t\t\tminX = 100000\n",
    "\t\t\tminY = 100000\n",
    "\t\t\txValue = 0\n",
    "\t\t\tyValue = 0\n",
    "\t\t\tfor row in reader:\n",
    "\t\t\t\tif(minX > float(row[0])):\n",
    "\t\t\t\t\tminX = float(row[0])\n",
    "\t\t\t\telif(minX > float(row[2])):\n",
    "\t\t\t\t\tminX = float(row[2])\n",
    "\t\t\t\telif(minY > float(row[1])):\n",
    "\t\t\t\t\tminY = float(row[1])\n",
    "\t\t\t\telif(minY > float(row[3])):\n",
    "\t\t\t\t\tminY = float(row[3])\n",
    "\t\t\t\tif(float(row[0]) == float(row[2])):\n",
    "\t\t\t\t\tyValue = float(row[1]) - float(row[3])\n",
    "\t\t\t\telif(float(row[1]) == float(row[3])):\n",
    "\t\t\t\t\txValue = float(row[0]) - float(row[2])\n",
    "\t\t\t\tif(xValue<0):\n",
    "\t\t\t\t\txValue = -xValue\n",
    "\t\t\t\telif(yValue<0):\n",
    "\t\t\t\t\tyValue = -yValue\n",
    "\t\t\t\n",
    "\t\t\tdiffCuboid = CUBOID([xValue, yValue, 10])\n",
    "\t\t\tdiffCuboid = T([1,2])([minX, minY])(diffCuboid)\n",
    "\t\t\tfloor = DIFFERENCE([floor,diffCuboid])\n",
    "\n",
    "\t#apply offset to external walls\n",
    "\texternalWalls = OFFSET([12,12])(externalWalls)\n",
    "\texternalWalls = PROD([externalWalls, Q(3/xfactor)])\n",
    "\n",
    "\t#create internal walls\n",
    "\tlistInternalWalls = create_walls(lines[1])\n",
    "\tinternalWalls = STRUCT(listInternalWalls)\n",
    "\tinternalWalls = OFFSET([12,12])(internalWalls)\n",
    "\tinternalWalls = PROD([internalWalls, Q(3/xfactor)])\n",
    "\n",
    "\t#create a cuboid to remove doors space.\n",
    "\twith open(lines[2], \"rb\") as file:\n",
    "\t\treader = csv.reader(file, delimiter=\",\")\n",
    "\t\tdoorsList = []\n",
    "\t\tfor row in reader:\n",
    "\t\t\tif(float(row[1]) == float(row[3])):\n",
    "\t\t\t\t#remove a bit for asix y\n",
    "\t\t\t\tdoorsList.append(POLYLINE([[float(row[0]), float(row[1])-1],[float(row[2]), float(row[3])-1]]))\n",
    "\t\t\telse:\n",
    "\t\t\t\tdoorsList.append(POLYLINE([[float(row[0]), float(row[1])],[float(row[2]), float(row[3])]]))\n",
    "\tdoors = STRUCT(doorsList)\n",
    "\tdoors = OFFSET([14,14])(doors)\n",
    "\tdoors = PROD([doors, Q(2.5/xfactor)])\n",
    "\n",
    "\t#create a cuboid to remove windows space\n",
    "\twith open(lines[3], \"rb\") as file:\n",
    "\t\treader = csv.reader(file, delimiter=\",\")\n",
    "\t\twindowList = []\n",
    "\t\tfor row in reader:\n",
    "\t\t\tif(float(row[0]) == float(row[2])):\n",
    "\t\t\t\t#remove a bit for asix X\n",
    "\t\t\t\twindowList.append(POLYLINE([[float(row[0])-1, float(row[1])],[float(row[2])-1, float(row[3])]]))\n",
    "\t\t\telse:\n",
    "\t\t\t\twindowList.append(POLYLINE([[float(row[0]), float(row[1])-1],[float(row[2]), float(row[3])-1]]))\n",
    "\twindows = STRUCT(windowList)\n",
    "\twindows = OFFSET([14, 14])(windows)\n",
    "\twindows = PROD([windows, Q(SIZE([3])(externalWalls)[0]/2.)])\n",
    "\twindows = T(3)(SIZE([3])(externalWalls)[0]/4.)(windows)\n",
    "\tframe = STRUCT([externalWalls, internalWalls])\n",
    "\tframe = DIFFERENCE([frame, doors, windows])\n",
    "\n",
    "\t#insert the concrete doors\n",
    "\tdoorsConcreteList = build_concrete_objects(lines[2], 14, xfactor, \"door\", externalWalls, windowsFunction, doorsFunction)\n",
    "\tdoorsConcreteList = STRUCT(doorsConcreteList)\n",
    "\n",
    "\t#insert the concrete windows\n",
    "\twindowsConcreteList = build_concrete_objects(lines[3], 14, xfactor, \"window\", externalWalls, windowsFunction, doorsFunction)\n",
    "\twindowsConcreteList = STRUCT(windowsConcreteList)\n",
    "\n",
    "\t#insert the ladder\n",
    "\tif(floorNumber != totalNumberOfFloors):\n",
    "\t\tladder = build_ladder(lines[5], xfactor, ladderBuilder)\n",
    "\t\tframe = STRUCT([frame, windowsConcreteList, doorsConcreteList, ladder])\n",
    "\telse:\n",
    "\t\tframe = STRUCT([frame, windowsConcreteList, doorsConcreteList])\n",
    "\n",
    "\n",
    "\tframe = T([3])((3/xfactor)*floorNumber)(frame)\n",
    "\tfloor = T([3])((3/xfactor)*floorNumber)(floor)\n",
    "\tframe = (S([1,2,3])([xfactor,yfactor, xfactor])(frame))\n",
    "\tfloor = (S([1,2,3])([xfactor,yfactor, xfactor])(floor))\n",
    "\tfloor = TEXTURE(\"texture/parquet.jpg\")(floor)\n",
    "\tframe = TEXTURE(\"texture/wall.jpg\")(frame)\n",
    "\n",
    "\tfloor = STRUCT([floor, frame])\n",
    "\treturn floor\n"
   ]
  },
  {
   "cell_type": "markdown",
   "metadata": {},
   "source": [
    "### In this functions I refactored the ggpl_building_house function, and split this in more functions.\n",
    "### ggpl_building_house proceeds in this step:\n",
    "* create external walls (with helpers function create_walls)\n",
    "* create floor \n",
    "* remove the space of the ladder (if the storey is more than 1)\n",
    "* create internal walls (with helpers function create_walls)\n",
    "* remove the space of the doors (with difference between structure and cuboid generated).\n",
    "* remove the space of the windows (with difference between structure and cuboid generated).\n",
    "* insert the doors HPC Models (generated with helpers function build_concrete_objects).\n",
    "* insert the windows HPC Models (generated with helpers function build_concrete_objects).\n",
    "* insert the ladder HPC Models (generated with helpers function build_ladder)."
   ]
  },
  {
   "cell_type": "markdown",
   "metadata": {},
   "source": [
    "### The helpers function build_ladder generate the HPC Model represent the ladder in the correct position (this function invoke the workshop_03), based on parameters in .lines file.\n",
    "### The helpers function build_concrete_objects generate a list of HPC Model represent the windows of the doors, based on a formal parameter, in the correct position (this function invoke the workshop_07), based on parameters in .lines file.\n",
    "### The helpers function create_walls, generate the skeleton of the walls (internal or external), without offset."
   ]
  },
  {
   "cell_type": "markdown",
   "metadata": {},
   "source": [
    "### The code of the workshop_03:"
   ]
  },
  {
   "cell_type": "code",
   "execution_count": 4,
   "metadata": {
    "collapsed": true
   },
   "outputs": [],
   "source": [
    "from pyplasm import *\n",
    "import math\n",
    "\n",
    "def generate_steps(stepNumber, tread, riser, stepWidth):\n",
    "\t\"\"\"\n",
    "\tgenerate_steps is a function that, given a stepNumber represent the number of the step, tread represent the depth of the step, \n",
    "\triser represent the height of the step and at the end stepWidth that represent the width of the step. \n",
    "\tReturn a list that contain the steps.\n",
    "\t@param stepNumber: Number of the steps\n",
    "\t@param tread: Number, represent depth of the step\n",
    "\t@param riser: Number, represent height of the single step\n",
    "\t@param stepWidth: Number, represent width of the all step\n",
    "\t@return steps: List, that contain all steps.\n",
    "\t\"\"\"\n",
    "\tstep2d = MKPOL([[[tread, 0],[tread, riser*2], [tread*2, riser*2], [tread*2, riser]], [[1,2,3,4]], None])\n",
    "\tsteps = []\n",
    "\tfirstStep = CUBOID([tread, riser, stepWidth])\n",
    "\tsteps.append(firstStep)\n",
    "\n",
    "\tfor i in range(int(stepNumber-1)):\n",
    "\t\tsteps.append(T([1,2])([(tread*i), riser*i])(PROD([step2d, Q(stepWidth)])))\n",
    "\n",
    "\treturn steps\n",
    "\n",
    "def ggpl_single_stair(dx, dy, dz):\n",
    "\t\"\"\"\n",
    "\tggpl_quarter_turn_stairs is a function, that generate a Single Stairs, this function given a dx represent the X value of the box \n",
    "\tthat contain the stairs, dy represent the Y value of the box, and at the end dz that represent the Z value of the box.\n",
    "\tReturn a HPC Model.\n",
    "\t@param dx: Number, represent the X value of the box.\n",
    "\t@param dy: Number, represent the Y value of the box.\n",
    "\t@param dz: Number, represent the Z value of the box.\n",
    "\t@return singleStairs: HPC Model of the space frame.\n",
    "\t\"\"\"\n",
    "\triser = dz/20.\n",
    "\tstepNumber = 20\n",
    "\n",
    "\tif(dx > dy):\n",
    "\t\tfirstTread = dx / (stepNumber)\n",
    "\t\tstepWidth = dy\n",
    "\telse:\n",
    "\t\tfirstTread = dy / (stepNumber)\n",
    "\t\tstepWidth = dx\n",
    "\n",
    "\tstairs = generate_steps(stepNumber, firstTread, riser, stepWidth)\n",
    "\n",
    "\tsingleStairs = MAP([S1,S3,S2])(STRUCT(stairs))\n",
    "\tsingleStairs = COLOR(Color4f([193/255., 154/255., 107/255., 1]))(singleStairs)\n",
    "\n",
    "\treturn singleStairs\n"
   ]
  },
  {
   "cell_type": "markdown",
   "metadata": {},
   "source": [
    "### In the original workshop_03 I generated the quarter turn stairs. However in this workshop this stairs is more difficult, so I modified the code and I generated the single stairs that inserted in the model."
   ]
  },
  {
   "cell_type": "markdown",
   "metadata": {},
   "source": [
    "### The code of workshop_07: "
   ]
  },
  {
   "cell_type": "code",
   "execution_count": 5,
   "metadata": {
    "collapsed": true
   },
   "outputs": [],
   "source": [
    "from pyplasm import *\n",
    "\n",
    "def circle(r):\n",
    "\tdef circle0(p):\n",
    "\t\talpha = p[0]\n",
    "\t\treturn [r*COS(alpha), r*SIN(alpha)]\n",
    "\treturn circle0\n",
    "\n",
    "\n",
    "def resizeXY(X, Y, occurrency, dx, dz):\n",
    "\t\"\"\"\n",
    "\tresizeXY is a function that scale the empty space of a window base on dx and dz.\n",
    "\t@param X: Float list of asix X of the windows cells\n",
    "\t@param Y: Float list of asix Y of the windows cells\n",
    "\t@param occurrency: Bool matrix that represent the full cell and empty cell.\n",
    "\t@param dx: represent a X coordinate of the box\n",
    "\t@param dz: represent a Z coordinate of the box\t\n",
    "\t\"\"\"\n",
    "\tsumY = sum(Y) \n",
    "\tsumX = sum(X)\n",
    "\tvisitedY = [False]*len(Y)\n",
    "\tfor y_index in range(len(Y)):\n",
    "\t\tupdate = True\n",
    "\t\tfor x_index in range(len(X)):\n",
    "\t\t\tif(occurrency[x_index][y_index] == False):\n",
    "\t\t\t\tupdate = False \n",
    "\t\tif(update):\n",
    "\t\t\tsumY = sumY - Y[y_index]\n",
    "\t\t\tsumX = sumX - X[y_index]\n",
    "\t\t\tdx = dx - X[y_index]\n",
    "\t\t\tdz = dz - Y[y_index]\n",
    "\n",
    "\tfor x_index in range(len(X)):\n",
    "\t\tmodifyX = False\n",
    "\t\tfor y_index in range(len(Y)):\n",
    "\t\t\tif(occurrency[x_index][y_index] == False and visitedY[y_index] == False):\n",
    "\t\t\t\tY[y_index] = (dz * Y[y_index])/sumY\n",
    "\t\t\t\tvisitedY[y_index] = True\n",
    "\t\t\t\tmodifyX = True\n",
    "\t\t\tif(occurrency[x_index][y_index] == False and visitedY[y_index] == True and not modifyX):\n",
    "\t\t\t\tmodifyX = True\n",
    "\t\tif(modifyX):\n",
    "\t\t\tX[x_index] = (dx * X[x_index])/sumX\n",
    "\n",
    "\n",
    "def window_main(X,Y,occurrency):\n",
    "\t\"\"\"\n",
    "\twindow_main is a function that generate HPC Model represent the window, parametric by dx, dy and dz.\n",
    "\t@param X: Float list of asix X of the window cells\n",
    "\t@param Y: Float list of asix Y of the window cells\n",
    "\t@param occurency: Bool matrix that represent the full cell and empty cell.\n",
    "\t@return windows_aux: function that return a HPC Model.\n",
    "\t\"\"\"\n",
    "\tdef window_aux(dx,dy,dz):\n",
    "\t\t\"\"\"\n",
    "\t\twindow_aux is the second level function of window_main.\n",
    "\t\t@param dx: represent the X value of the box that contain the window\n",
    "\t\t@param dy: represent the Y value of the box that contain the window\n",
    "\t\t@param dz: represent the Z value of the box that contain the window\n",
    "\t\t@return HPC Model: represent the window.\n",
    "\t\t\"\"\"\n",
    "\t\tresizeXY(X,Y,occurrency, dx, dz)\n",
    "\t\tresult = []\n",
    "\t\tfor x_index in range(len(X)):\n",
    "\t\t\ty_quotes = []\n",
    "\t\t\tx_sum = sum(X[:x_index])\n",
    "\t\t\tfor y_index in range(len(Y)):\n",
    "\t\t\t\tif(occurrency[x_index][y_index] == False):\n",
    "\t\t\t\t\ty_quotes.append(-Y[y_index])\n",
    "\t\t\t\telse:\n",
    "\t\t\t\t\ty_quotes.append(Y[y_index])\n",
    "\t\t\tresult.append(PROD([ QUOTE([-x_sum, X[x_index]]), QUOTE(y_quotes)]))\n",
    "\t\tresult.append(BOX([dx,dz,dy]))\n",
    "\t\tres = STRUCT(result)\n",
    "\t\tres = PROD([res, Q(dy)])\n",
    "\t\tres = MAP([S1,S3,S2])(res)\n",
    "\t\tres = STRUCT([res])\n",
    "\t\tres = COLOR(Color4f([193/255., 154/255., 107/255., 1]))(res)\n",
    "\t\treturn STRUCT([res])\n",
    "\treturn window_aux\n",
    "\n",
    "\n",
    "def door_main(XDoor,YDoor,occurrency):\n",
    "\t\"\"\"\n",
    "\tdoor_main is a function that generate the HPC Model represent the door, parametric by dx,dy and dz.\n",
    "\t@param XDoor: Float list of asix X of the door cells.\n",
    "\t@param YDoor: Float list of asix Y of the door cells.\n",
    "\t@param occurency: Bool matrix that represent the full cells and empty cells.\n",
    "\t@return door_aux: function that return a HPC Model.\n",
    "\t\"\"\"\n",
    "\tdef door_aux(dx,dy,dz):\n",
    "\t\t\"\"\"\n",
    "\t\tdoor_aux is the second level function of door_main. \n",
    "\t\t@param dx: represent the X value of the box that contain the door\n",
    "\t\t@param dy: represent the Y value of the box that contain the door\n",
    "\t\t@param dz: represent the Z value of the box that contain the door\n",
    "\t\t@return HPC Model: represent the door.\n",
    "\t\t\"\"\"\n",
    "\t\tresult = []\n",
    "\t\tcircle_door = MAP(circle(sum(YDoor[4:9])/2.*.6))(INTERVALS(2*PI)(50))\n",
    "\t\tcircle_door = JOIN(circle_door)\n",
    "\t\tcircle_door = PROD([circle_door, Q(dy/4.)])\n",
    "\t\tcircle_door = MAP([S1,S3,S2])(circle_door)\n",
    "\t\tcircle_door = T([1,2,3])([dx/2., dy-dy/4.+0.01, dz/2.])(circle_door)\n",
    "\t\tcircle_door = COLOR(Color4f([93/255., 94/255., 107/255., 1]))(circle_door)\n",
    "\t\tfor x_index in range(len(XDoor)):\n",
    "\t\t\ty_quotes = []\n",
    "\t\t\tx_sum = sum(XDoor[:x_index])\n",
    "\t\t\tfor y_index in range(len(YDoor)):\n",
    "\t\t\t\tif(occurrency[x_index][y_index] == False):\n",
    "\t\t\t\t\ty_quotes.append(-YDoor[y_index])\n",
    "\t\t\t\telse:\n",
    "\t\t\t\t\ty_quotes.append(YDoor[y_index])\n",
    "\t\t\tresult.append(PROD([ QUOTE([-x_sum, XDoor[x_index]]), QUOTE(y_quotes)]))\n",
    "\t\tresult.append(BOX([dx,dz,dy]))\n",
    "\t\tres = STRUCT(result)\n",
    "\t\tres = PROD([res, Q(dy)])\n",
    "\t\tres = MAP([S2,S3,S1])(res)\n",
    "\t\tres = S([1,2,3])([dx/SIZE([1])(res)[0], dy/SIZE([2])(res)[0], dz/SIZE([3])(res)[0]]) (res)\n",
    "\t\tres = COLOR(Color4f([93/255., 94/255., 107/255., 1]))(res)\n",
    "\t\tglass = CUBOID([SIZE([1])(res)[0]*0.9, dy/4.*0.9, SIZE([3])(res)[0]*0.9])\n",
    "\t\tglass = T([1,2,3])([dx*0.05, dy/8. + dy*0.05, dz*0.05])(glass)\n",
    "\t\tglass = COLOR(Color4f([38/255.,226/255.,189/255.,1]))(glass)\n",
    "\t\treturn STRUCT([res, circle_door, glass])\n",
    "\treturn door_aux\n",
    "\n",
    "\n",
    "\n",
    "\n",
    "\n",
    "\n"
   ]
  },
  {
   "cell_type": "markdown",
   "metadata": {},
   "source": [
    "### This code is the same of the original workshop_07"
   ]
  },
  {
   "cell_type": "markdown",
   "metadata": {},
   "source": [
    "## Input and Example:"
   ]
  },
  {
   "cell_type": "markdown",
   "metadata": {},
   "source": [
    "### I developed two models of the houses, represent by svg files in svg directory, below I describe the .lines file and formal parameter pass for the models."
   ]
  },
  {
   "cell_type": "markdown",
   "metadata": {},
   "source": [
    "### .lines files for first model:"
   ]
  },
  {
   "cell_type": "markdown",
   "metadata": {},
   "source": [
    "#### external walls first floor:"
   ]
  },
  {
   "cell_type": "code",
   "execution_count": 7,
   "metadata": {
    "collapsed": false
   },
   "outputs": [
    {
     "data": {
      "text/plain": [
       "(704.32836, 406.34328, 59.258396, 406.34328)"
      ]
     },
     "execution_count": 7,
     "metadata": {},
     "output_type": "execute_result"
    }
   ],
   "source": [
    "59.258396,406.34328,59.258396,204.01819\n",
    "59.258396,204.01819,253.118,204.01819\n",
    "253.118,204.01819,253.118,22.010261000000014\n",
    "253.118,22.010261000000014,704.32836,22.010261000000014\n",
    "704.32836,22.010261000000014,704.32836,406.34328\n",
    "704.32836,406.34328,59.258396,406.34328"
   ]
  },
  {
   "cell_type": "markdown",
   "metadata": {},
   "source": [
    "#### internal walls first floor:"
   ]
  },
  {
   "cell_type": "code",
   "execution_count": 8,
   "metadata": {
    "collapsed": false
   },
   "outputs": [
    {
     "data": {
      "text/plain": [
       "(704.11672, 215.78545, 517.24114, 215.78545)"
      ]
     },
     "execution_count": 8,
     "metadata": {},
     "output_type": "execute_result"
    }
   ],
   "source": [
    "252.90858,203.83442,399.86492999999996,203.83442\n",
    "399.86492999999996,203.83442,399.86492999999996,22.010260999999986\n",
    "517.24114,22.010261,517.24114,405.92001\n",
    "704.11672,215.78545,517.24114,215.78545"
   ]
  },
  {
   "cell_type": "markdown",
   "metadata": {},
   "source": [
    "#### windows first floor:"
   ]
  },
  {
   "cell_type": "code",
   "execution_count": 9,
   "metadata": {
    "collapsed": false
   },
   "outputs": [
    {
     "data": {
      "text/plain": [
       "(200.49962, 406.13426, 272.85686999999996, 406.13426)"
      ]
     },
     "execution_count": 9,
     "metadata": {},
     "output_type": "execute_result"
    }
   ],
   "source": [
    "298.76544,21.940582,351.98303,21.940582\n",
    "581.42555,21.940582,644.21297,21.940582\n",
    "704.31617,294.8558,704.31617,346.03105\n",
    "200.49962,406.13426,272.85686999999996,406.13426"
   ]
  },
  {
   "cell_type": "markdown",
   "metadata": {},
   "source": [
    "#### doors first floor:"
   ]
  },
  {
   "cell_type": "code",
   "execution_count": 10,
   "metadata": {
    "collapsed": false
   },
   "outputs": [
    {
     "data": {
      "text/plain": [
       "(516.71249, 283.5354, 516.71249, 336.89733)"
      ]
     },
     "execution_count": 10,
     "metadata": {},
     "output_type": "execute_result"
    }
   ],
   "source": [
    "114.70707,203.95266,181.00984,203.95266\n",
    "292.07334,204.01455,351.00135,204.01455\n",
    "516.65413,79.242859,516.65413,133.5108\n",
    "516.71249,283.5354,516.71249,336.89733"
   ]
  },
  {
   "cell_type": "markdown",
   "metadata": {},
   "source": [
    "#### ladder first floor:"
   ]
  },
  {
   "cell_type": "code",
   "execution_count": 11,
   "metadata": {
    "collapsed": false
   },
   "outputs": [
    {
     "data": {
      "text/plain": [
       "(144.8987, 405.284762, 144.8987, 319.43619)"
      ]
     },
     "execution_count": 11,
     "metadata": {},
     "output_type": "execute_result"
    }
   ],
   "source": [
    "144.8987,319.43619,403.89771999999994,319.43619\n",
    "403.89771999999994,319.43619,403.89771999999994,405.284762\n",
    "403.89771999999994,405.284762,144.8987,405.284762\n",
    "144.8987,405.284762,144.8987,319.43619"
   ]
  },
  {
   "cell_type": "markdown",
   "metadata": {},
   "source": [
    "#### for the second floor the external walls and ladder is the same of the first floor. So internal walls second floor:"
   ]
  },
  {
   "cell_type": "code",
   "execution_count": 12,
   "metadata": {
    "collapsed": false
   },
   "outputs": [
    {
     "data": {
      "text/plain": [
       "(503.125, 291.33641, 503.125, 406.38671999999997)"
      ]
     },
     "execution_count": 12,
     "metadata": {},
     "output_type": "execute_result"
    }
   ],
   "source": [
    "253.01165,204.05292,704.49219,204.05292\n",
    "481.25,22.109373,481.25,204.05292\n",
    "704.06843,291.33641,503.125,291.33641\n",
    "503.125,291.33641,503.125,406.38671999999997"
   ]
  },
  {
   "cell_type": "markdown",
   "metadata": {},
   "source": [
    "#### windows second floor:"
   ]
  },
  {
   "cell_type": "code",
   "execution_count": 13,
   "metadata": {
    "collapsed": false
   },
   "outputs": [
    {
     "data": {
      "text/plain": [
       "(59.316868, 278.35437, 59.316868, 333.4375)"
      ]
     },
     "execution_count": 13,
     "metadata": {},
     "output_type": "execute_result"
    }
   ],
   "source": [
    "98.539197,203.98386,163.51844,203.98386\n",
    "340.91797,21.91406,385.15625,21.91406\n",
    "583.3631,21.959109,636.71875,21.959109\n",
    "704.34465,332.07791,704.34465,367.57135999999997\n",
    "59.316868,278.35437,59.316868,333.4375"
   ]
  },
  {
   "cell_type": "markdown",
   "metadata": {},
   "source": [
    "#### doors second floor:"
   ]
  },
  {
   "cell_type": "code",
   "execution_count": 14,
   "metadata": {
    "collapsed": false
   },
   "outputs": [
    {
     "data": {
      "text/plain": [
       "(503.125, 332.85156, 503.125, 370.88592)"
      ]
     },
     "execution_count": 14,
     "metadata": {},
     "output_type": "execute_result"
    }
   ],
   "source": [
    "330.21334,203.91481,395.3125,203.91481\n",
    "575.97657,203.94531,626.4524200000001,203.94531\n",
    "503.125,332.85156,503.125,370.88592"
   ]
  },
  {
   "cell_type": "markdown",
   "metadata": {},
   "source": [
    "#### I invoke the first model with:"
   ]
  },
  {
   "cell_type": "code",
   "execution_count": 16,
   "metadata": {
    "collapsed": false
   },
   "outputs": [
    {
     "name": "stdout",
     "output_type": "stream",
     "text": [
      "first_model_scale_1.lines\n"
     ]
    },
    {
     "data": {
      "text/plain": [
       "<pyplasm.xgepy.Hpc; proxy of <Swig Object of type 'std::shared_ptr< Hpc > *' at 0x112d31ae0> >"
      ]
     },
     "execution_count": 16,
     "metadata": {},
     "output_type": "execute_result"
    }
   ],
   "source": [
    "from pyplasm import *\n",
    "import csv\n",
    "import src.workshop_08 as build_floor\n",
    "import src.workshop_07 as windowsDoors\n",
    "import src.workshop_03 as quarterTurnStairs\n",
    "import src.workshop_09 as roof_builder\n",
    "\n",
    "XWindow = [2,3,2,3,2]\n",
    "YWindow = [2,3,2,3,2]\n",
    "occurrencyWindow = [[True, True, True, True, True],\n",
    "\t\t\t  [True, False, True, False, True],\n",
    "\t\t\t  [True, True, True, True, True],\n",
    "\t\t\t  [True, False, True, False, True],\n",
    "\t\t\t  [True, True, True, True, True]]\n",
    "\n",
    "XDoor = [.2, .2, .05, .2, .05, .2, .3, .2, .05, .2 ,.05, .2, .2]\n",
    "YDoor = [.2, .2, .05, .2, .05, 1, .05, .2, .05, .2, .2]\n",
    "occurencyDoor = [[True, True, True, True, True, True, True, True, True, True, True, True, True],\n",
    "\t\t\t\t[True, False, False, False, False, False, True, False, False, False, False, False, True],\n",
    "\t\t\t\t[True, False, True, True, True, True, True, True, True, True, True, False, True], \n",
    "\t\t\t\t[True, False, True, False, False, False, True, False, False, False, True, False, True],\n",
    "\t\t\t\t[True, False, True, False, True, True, True, True, True, False, True, False, True],\n",
    "\t\t\t\t[True, False, True, False, True, False, True, False, True, False, True, False, True], \n",
    "\t\t\t\t[True, False, True, False, True, True, True, True, True, False, True, False, True],\n",
    "\t\t\t\t[True, False, True, False, False, False, True, False, False, False, True, False, True],\n",
    "\t\t\t\t[True, False, True, True, True, True, True, True, True, True, True, False, True],\n",
    "\t\t\t\t[True, False, False, False, False, False, True, False, False, False, False, False, True],\n",
    "\t\t\t\t[True, True, True, True, True, True, True, True, True, True, True, True, True]]\n",
    "\n",
    "listExternalWalls = build_floor.create_walls('first_model_muri_esterni_1.lines')\n",
    "externalWalls = STRUCT(listExternalWalls)\n",
    "xfactor = 15/SIZE([1])(externalWalls)[0]\n",
    "yfactor = 15.1/SIZE([2])(externalWalls)[0]\n",
    "zfactor = xfactor\n",
    "\n",
    "multistorey_house(2, 'first_model', xfactor, yfactor, zfactor)(XWindow, YWindow, occurrencyWindow)(XDoor, YDoor, occurencyDoor)('first_model_muri_esterni_1.lines', PI/5., 3/zfactor)"
   ]
  },
  {
   "cell_type": "markdown",
   "metadata": {},
   "source": [
    "### This is the example image of the first model:"
   ]
  },
  {
   "cell_type": "markdown",
   "metadata": {},
   "source": [
    "![title](img/Example_1.png)"
   ]
  },
  {
   "cell_type": "markdown",
   "metadata": {},
   "source": [
    "![title](img/Example_3.png)"
   ]
  },
  {
   "cell_type": "markdown",
   "metadata": {},
   "source": [
    "### .lines files for the second model:"
   ]
  },
  {
   "cell_type": "markdown",
   "metadata": {},
   "source": [
    "#### external walls first floor:"
   ]
  },
  {
   "cell_type": "code",
   "execution_count": 17,
   "metadata": {
    "collapsed": false
   },
   "outputs": [
    {
     "data": {
      "text/plain": [
       "(65.18640700000003, 404.03155, 65.186407, 51.583016)"
      ]
     },
     "execution_count": 17,
     "metadata": {},
     "output_type": "execute_result"
    }
   ],
   "source": [
    "65.186407,51.583016,700.47766,51.583016\n",
    "700.47766,51.583016,700.47766,404.03155\n",
    "700.47766,404.03155,65.18640700000003,404.03155\n",
    "65.18640700000003,404.03155,65.186407,51.583016"
   ]
  },
  {
   "cell_type": "markdown",
   "metadata": {},
   "source": [
    "#### internal walls first floor:"
   ]
  },
  {
   "cell_type": "code",
   "execution_count": 18,
   "metadata": {
    "collapsed": false
   },
   "outputs": [
    {
     "data": {
      "text/plain": [
       "(351.34368, 283.4375, 351.34368, 404.06608)"
      ]
     },
     "execution_count": 18,
     "metadata": {},
     "output_type": "execute_result"
    }
   ],
   "source": [
    "564.0625,51.406248,564.0625,283.4375\n",
    "564.0625,283.4375,700.33955,283.4375\n",
    "564.02815,283.46432,444.15144999999995,283.46432\n",
    "444.15144999999995,283.46432,444.15144999999995,404.41683\n",
    "444.14063,283.4375,351.34368,283.4375\n",
    "351.34368,283.4375,351.34368,404.06608"
   ]
  },
  {
   "cell_type": "markdown",
   "metadata": {},
   "source": [
    "#### windows first floor:"
   ]
  },
  {
   "cell_type": "code",
   "execution_count": 19,
   "metadata": {
    "collapsed": false
   },
   "outputs": [
    {
     "data": {
      "text/plain": [
       "(383.10825, 403.89345, 408.79611, 403.89345)"
      ]
     },
     "execution_count": 19,
     "metadata": {},
     "output_type": "execute_result"
    }
   ],
   "source": [
    "65.136719,177.38281,65.136719,200.73835\n",
    "169.11177,51.583016,208.81747000000001,51.583016\n",
    "388.49441,51.444909,428.13106000000005,51.444909\n",
    "700.48829,122.30469,700.48829,151.40625\n",
    "700.47766,329.86821,700.47766,360.39061999999996\n",
    "549.51172,404.04297,583.98438,404.04297\n",
    "383.10825,403.89345,408.79611,403.89345"
   ]
  },
  {
   "cell_type": "markdown",
   "metadata": {},
   "source": [
    "#### doors first floor:"
   ]
  },
  {
   "cell_type": "code",
   "execution_count": 20,
   "metadata": {
    "collapsed": false
   },
   "outputs": [
    {
     "data": {
      "text/plain": [
       "(378.1364, 283.39527, 406.25, 283.39527)"
      ]
     },
     "execution_count": 20,
     "metadata": {},
     "output_type": "execute_result"
    }
   ],
   "source": [
    "65.186407,80.033015,65.186407,113.73107\n",
    "564.0625,123.28125,564.0625,173.28125\n",
    "483.09757,283.32622,531.43494,283.32622\n",
    "378.1364,283.39527,406.25,283.39527"
   ]
  },
  {
   "cell_type": "markdown",
   "metadata": {},
   "source": [
    "#### ladder first floor:"
   ]
  },
  {
   "cell_type": "code",
   "execution_count": 21,
   "metadata": {
    "collapsed": false
   },
   "outputs": [
    {
     "data": {
      "text/plain": [
       "(132.12988, 401.862758, 132.12988, 312.75574)"
      ]
     },
     "execution_count": 21,
     "metadata": {},
     "output_type": "execute_result"
    }
   ],
   "source": [
    "132.12988,312.75574,312.9398,312.75574\n",
    "312.9398,312.75574,312.9398,401.862758\n",
    "312.9398,401.862758,132.12988,401.862758\n",
    "132.12988,401.862758,132.12988,312.75574"
   ]
  },
  {
   "cell_type": "markdown",
   "metadata": {},
   "source": [
    "#### for the second floor the external walls and ladder is the same of the first floor. So internal walls second floor:"
   ]
  },
  {
   "cell_type": "code",
   "execution_count": 22,
   "metadata": {
    "collapsed": false
   },
   "outputs": [
    {
     "data": {
      "text/plain": [
       "(495.32002, 138.71094, 495.32002, 404.10061)"
      ]
     },
     "execution_count": 22,
     "metadata": {},
     "output_type": "execute_result"
    }
   ],
   "source": [
    "65.185547,138.61328,700.5467100000001,138.61328\n",
    "265.64842,51.583016,265.64842,138.56445\n",
    "495.32002,51.513962,495.32002,138.71094\n",
    "495.32002,138.71094,495.32002,404.10061"
   ]
  },
  {
   "cell_type": "markdown",
   "metadata": {},
   "source": [
    "#### windows second floor:"
   ]
  },
  {
   "cell_type": "code",
   "execution_count": 23,
   "metadata": {
    "collapsed": false
   },
   "outputs": [
    {
     "data": {
      "text/plain": [
       "(126.95313, 51.503904, 151.5625, 51.503904)"
      ]
     },
     "execution_count": 23,
     "metadata": {},
     "output_type": "execute_result"
    }
   ],
   "source": [
    "65.039063,169.17969,65.039063,202.94806\n",
    "65.234375,260.87891,65.234375,305.69952\n",
    "409.90096,404.03155,451.88543,404.03155\n",
    "567.38282,403.94531,646.875,403.94531\n",
    "700.33955,214.82525,700.33955,251.40625\n",
    "578.46031,51.513962,621.875,51.513962\n",
    "331.9336,51.60156,359.76563,51.60156\n",
    "126.95313,51.503904,151.5625,51.503904"
   ]
  },
  {
   "cell_type": "markdown",
   "metadata": {},
   "source": [
    "#### doors second floor:"
   ]
  },
  {
   "cell_type": "code",
   "execution_count": 24,
   "metadata": {
    "collapsed": false
   },
   "outputs": [
    {
     "data": {
      "text/plain": [
       "(495.26368, 243.10547, 495.26368, 302.38495)"
      ]
     },
     "execution_count": 24,
     "metadata": {},
     "output_type": "execute_result"
    }
   ],
   "source": [
    "141.79688,138.56445,190.625,138.56445\n",
    "367.9165,138.5903,423.4375,138.5903\n",
    "495.38907,77.270879,495.38907,104.53125\n",
    "570.89844,138.61328,620.9281400000001,138.61328\n",
    "495.26368,243.10547,495.26368,302.38495"
   ]
  },
  {
   "cell_type": "markdown",
   "metadata": {},
   "source": [
    "#### I invoke the first model with:"
   ]
  },
  {
   "cell_type": "code",
   "execution_count": 25,
   "metadata": {
    "collapsed": false
   },
   "outputs": [
    {
     "name": "stdout",
     "output_type": "stream",
     "text": [
      "second_model_scale_1.lines\n"
     ]
    },
    {
     "data": {
      "text/plain": [
       "<pyplasm.xgepy.Hpc; proxy of <Swig Object of type 'std::shared_ptr< Hpc > *' at 0x113939f00> >"
      ]
     },
     "execution_count": 25,
     "metadata": {},
     "output_type": "execute_result"
    }
   ],
   "source": [
    "from pyplasm import *\n",
    "import csv\n",
    "import src.workshop_08 as build_floor\n",
    "import src.workshop_07 as windowsDoors\n",
    "import src.workshop_03 as quarterTurnStairs\n",
    "import src.workshop_09 as roof_builder\n",
    "\n",
    "XWindow = [2,3,2,3,2]\n",
    "YWindow = [2,3,2,3,2]\n",
    "occurrencyWindow = [[True, True, True, True, True],\n",
    "\t\t\t  [True, False, True, False, True],\n",
    "\t\t\t  [True, True, True, True, True],\n",
    "\t\t\t  [True, False, True, False, True],\n",
    "\t\t\t  [True, True, True, True, True]]\n",
    "\n",
    "XDoor = [.2, .2, .05, .2, .05, .2, .3, .2, .05, .2 ,.05, .2, .2]\n",
    "YDoor = [.2, .2, .05, .2, .05, 1, .05, .2, .05, .2, .2]\n",
    "occurencyDoor = [[True, True, True, True, True, True, True, True, True, True, True, True, True],\n",
    "\t\t\t\t[True, False, False, False, False, False, True, False, False, False, False, False, True],\n",
    "\t\t\t\t[True, False, True, True, True, True, True, True, True, True, True, False, True], \n",
    "\t\t\t\t[True, False, True, False, False, False, True, False, False, False, True, False, True],\n",
    "\t\t\t\t[True, False, True, False, True, True, True, True, True, False, True, False, True],\n",
    "\t\t\t\t[True, False, True, False, True, False, True, False, True, False, True, False, True], \n",
    "\t\t\t\t[True, False, True, False, True, True, True, True, True, False, True, False, True],\n",
    "\t\t\t\t[True, False, True, False, False, False, True, False, False, False, True, False, True],\n",
    "\t\t\t\t[True, False, True, True, True, True, True, True, True, True, True, False, True],\n",
    "\t\t\t\t[True, False, False, False, False, False, True, False, False, False, False, False, True],\n",
    "\t\t\t\t[True, True, True, True, True, True, True, True, True, True, True, True, True]]\n",
    "\n",
    "listExternalWalls2 = build_floor.create_walls('second_model_muri_esterni_1.lines')\n",
    "externalWalls2 = STRUCT(listExternalWalls2)\n",
    "xfactor2 = 15/SIZE([1])(externalWalls2)[0]\n",
    "yfactor2 = 15.1/SIZE([2])(externalWalls2)[0]\n",
    "zfactor2 = xfactor2\n",
    "\n",
    "multistorey_house(2, 'second_model', xfactor2, yfactor2, zfactor2)(XWindow, YWindow, occurrencyWindow)(XDoor, YDoor, occurencyDoor)('second_model_muri_esterni_1.lines', PI/5., 3/zfactor2)"
   ]
  },
  {
   "cell_type": "markdown",
   "metadata": {},
   "source": [
    "### This is the example image of the second model:"
   ]
  },
  {
   "cell_type": "markdown",
   "metadata": {},
   "source": [
    "![title](img/Example_2.png)"
   ]
  },
  {
   "cell_type": "code",
   "execution_count": null,
   "metadata": {
    "collapsed": true
   },
   "outputs": [],
   "source": []
  }
 ],
 "metadata": {
  "anaconda-cloud": {},
  "kernelspec": {
   "display_name": "Python [conda root]",
   "language": "python",
   "name": "conda-root-py"
  },
  "language_info": {
   "codemirror_mode": {
    "name": "ipython",
    "version": 2
   },
   "file_extension": ".py",
   "mimetype": "text/x-python",
   "name": "python",
   "nbconvert_exporter": "python",
   "pygments_lexer": "ipython2",
   "version": "2.7.12"
  }
 },
 "nbformat": 4,
 "nbformat_minor": 1
}
