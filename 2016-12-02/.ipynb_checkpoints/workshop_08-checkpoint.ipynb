{
 "cells": [
  {
   "cell_type": "markdown",
   "metadata": {},
   "source": [
    "# Solid model from .SVG drawings"
   ]
  },
  {
   "cell_type": "markdown",
   "metadata": {},
   "source": [
    "### I defined a single main function, named ggpl_building_house(), that building a solid model of a house from SGV file, that I wrote in Inkspace. I choosed the model represent in Figure:"
   ]
  },
  {
   "cell_type": "markdown",
   "metadata": {},
   "source": [
    "![alt image](https://pyramidbuilders.files.wordpress.com/2014/08/floor-plan_s.jpg)"
   ]
  },
  {
   "cell_type": "markdown",
   "metadata": {},
   "source": [
    "## First step"
   ]
  },
  {
   "cell_type": "markdown",
   "metadata": {},
   "source": [
    "### In my first step, I wrote the drawing of the house plan. I wrote a external walls, internal walls, windows and doors. Represent rispectively in figures:"
   ]
  },
  {
   "cell_type": "markdown",
   "metadata": {},
   "source": [
    "* External walls: \n",
    "![title](muri_esterni.svg)"
   ]
  },
  {
   "cell_type": "markdown",
   "metadata": {},
   "source": [
    "* Internal walls \n",
    "![title](muri_interni.svg)"
   ]
  },
  {
   "cell_type": "markdown",
   "metadata": {},
   "source": [
    "* windows\n",
    "![title](finestre.svg)"
   ]
  },
  {
   "cell_type": "markdown",
   "metadata": {},
   "source": [
    "* doors\n",
    "![title](porte.svg)"
   ]
  },
  {
   "cell_type": "markdown",
   "metadata": {},
   "source": [
    "## Second step (Extract .lines file from the svg files)"
   ]
  },
  {
   "cell_type": "markdown",
   "metadata": {
    "collapsed": true
   },
   "source": [
    "### In the second step I extract coordinates from svg files, with a svg tools. The data extract is:"
   ]
  },
  {
   "cell_type": "markdown",
   "metadata": {},
   "source": [
    "* For the external walls (muri_esterni.files): "
   ]
  },
  {
   "cell_type": "code",
   "execution_count": 1,
   "metadata": {
    "collapsed": false
   },
   "outputs": [
    {
     "data": {
      "text/plain": [
       "(108.96766, 13.562734, 343.1668200000001, 14.104861999999947)"
      ]
     },
     "execution_count": 1,
     "metadata": {},
     "output_type": "execute_result"
    }
   ],
   "source": [
    "108.96766,13.562734,108.42554,449.97551999999996\n",
    "108.42554,449.97551999999996,406.05364000000003,450.51764999999995\n",
    "406.05364000000003,450.51764999999995,407.13789,535.6316899999999\n",
    "407.13789,535.6316899999999,684.1651400000001,534.5474399999999\n",
    "684.1651400000001,534.5474399999999,683.0808800000001,56.93294899999995\n",
    "683.0808800000001,56.93294899999995,343.1668200000001,55.84869299999995\n",
    "343.1668200000001,55.84869299999995,343.1668200000001,14.104861999999947\n",
    "108.96766,13.562734,343.1668200000001,14.104861999999947"
   ]
  },
  {
   "cell_type": "markdown",
   "metadata": {},
   "source": [
    "* For the internal walls (muri_interni.files):"
   ]
  },
  {
   "cell_type": "code",
   "execution_count": 2,
   "metadata": {
    "collapsed": false
   },
   "outputs": [
    {
     "data": {
      "text/plain": [
       "(405.57601, 450.81038, 512.9118100000001, 450.81038)"
      ]
     },
     "execution_count": 2,
     "metadata": {},
     "output_type": "execute_result"
    }
   ],
   "source": [
    "107.88341,235.83508,406.59576000000004,235.83508\n",
    "406.59576000000004,235.83508,406.59576000000004,56.39082100000002\n",
    "512.31066,55.848693,513.39492,534.54744\n",
    "406.05364,184.33295,512.31066,184.33295\n",
    "597.96684,208.18657,598.50896,234.2087\n",
    "598.50896,234.2087,682.53875,234.75082999999998\n",
    "513.39492,234.2087,598.50896,233.66657\n",
    "513.39492,299.26402,683.08088,300.34828\n",
    "512.85279,364.86147,683.08088,364.86147\n",
    "597.42471,365.4036,597.96684,390.8836\n",
    "316.64063,236.13877,316.64063,397.90916\n",
    "316.64063,397.90916,407.87606,397.14248\n",
    "407.87606,397.14248,405.57601,235.37209\n",
    "405.57601,450.81038,512.9118100000001,450.81038"
   ]
  },
  {
   "cell_type": "markdown",
   "metadata": {},
   "source": [
    "* for the windows (finestre.lines):"
   ]
  },
  {
   "cell_type": "code",
   "execution_count": 3,
   "metadata": {
    "collapsed": false
   },
   "outputs": [
    {
     "data": {
      "text/plain": [
       "(91.619576, 395.220632, 91.619576, 362.69296)"
      ]
     },
     "execution_count": 3,
     "metadata": {},
     "output_type": "execute_result"
    }
   ],
   "source": [
    "173.84567,0.57501829,206.62142300000002,0.57501829\n",
    "206.62142300000002,0.57501829,206.62142300000002,31.62573429\n",
    "206.62142300000002,31.62573429,173.84567,31.62573429\n",
    "173.84567,31.62573429,173.84567,0.57501829\n",
    "211.60487,0.95836067,240.16386,0.95836067\n",
    "240.16386,0.95836067,240.16386,31.81740367\n",
    "240.16386,31.81740367,211.60487,31.81740367\n",
    "211.60487,31.81740367,211.60487,0.95836067\n",
    "244.76398,0.76668924,278.306415,0.76668924\n",
    "278.306415,0.76668924,278.306415,32.20074624\n",
    "278.306415,32.20074624,244.76398,32.20074624\n",
    "244.76398,32.20074624,244.76398,0.76668924\n",
    "90.660423,73.218361,127.652942,73.218361\n",
    "127.652942,73.218361,127.652942,107.527485\n",
    "127.652942,107.527485,90.660423,107.527485\n",
    "90.660423,107.527485,90.660423,73.218361\n",
    "89.702065,110.97756,129.37798,110.97756\n",
    "129.37798,110.97756,129.37798,140.87824799999999\n",
    "129.37798,140.87824799999999,89.702065,140.87824799999999\n",
    "89.702065,140.87824799999999,89.702065,110.97756\n",
    "88.935379,144.32832,129.761318,144.32832\n",
    "129.761318,144.32832,129.761318,176.52906099999998\n",
    "129.761318,176.52906099999998,88.935379,176.52906099999998\n",
    "88.935379,176.52906099999998,88.935379,144.32832\n",
    "443.46045,42.837635,476.53024,42.837635\n",
    "476.53024,42.837635,476.53024,73.196785\n",
    "476.53024,73.196785,443.46045,73.196785\n",
    "443.46045,73.196785,443.46045,42.837635\n",
    "564.35492,40.669125,596.340455,40.669125\n",
    "596.340455,40.669125,596.340455,73.73891900000001\n",
    "596.340455,73.73891900000001,564.35492,73.73891900000001\n",
    "564.35492,73.73891900000001,564.35492,40.669125\n",
    "601.2196,40.126999,629.952367,40.126999\n",
    "629.952367,40.126999,629.952367,73.196789\n",
    "629.952367,73.196789,601.2196,73.196789\n",
    "601.2196,73.196789,601.2196,40.126999\n",
    "662.48004,108.43508,704.7659970000001,108.43508\n",
    "704.7659970000001,108.43508,704.7659970000001,138.252102\n",
    "704.7659970000001,138.252102,662.48004,138.252102\n",
    "662.48004,138.252102,662.48004,108.43508\n",
    "663.02216,144.21552,705.3081099999999,144.21552\n",
    "705.3081099999999,144.21552,705.3081099999999,175.116801\n",
    "705.3081099999999,175.116801,663.02216,175.116801\n",
    "663.02216,175.116801,663.02216,144.21552\n",
    "667.90131,242.34062,699.344715,242.34062\n",
    "699.344715,242.34062,699.344715,274.326153\n",
    "699.344715,274.326153,667.90131,274.326153\n",
    "667.90131,274.326153,667.90131,242.34062\n",
    "670.06982,318.23849,698.2604590000001,318.23849\n",
    "698.2604590000001,318.23849,698.2604590000001,350.224023\n",
    "698.2604590000001,350.224023,670.06982,350.224023\n",
    "670.06982,350.224023,670.06982,318.23849\n",
    "664.64856,410.94232,701.513241,410.94232\n",
    "701.513241,410.94232,701.513241,443.46997999999996\n",
    "701.513241,443.46997999999996,664.64856,443.46997999999996\n",
    "664.64856,443.46997999999996,664.64856,410.94232\n",
    "666.81702,448.34915,702.0553199999999,448.34915\n",
    "702.0553199999999,448.34915,702.0553199999999,479.250428\n",
    "702.0553199999999,479.250428,666.81702,479.250428\n",
    "666.81702,479.250428,666.81702,448.34915\n",
    "564.35492,513.94659,595.256226,513.94659\n",
    "595.256226,513.94659,595.256226,562.19598\n",
    "595.256226,562.19598,564.35492,562.19598\n",
    "564.35492,562.19598,564.35492,513.94659\n",
    "601.76172,513.94659,632.12087,513.94659\n",
    "632.12087,513.94659,632.12087,562.195953\n",
    "632.12087,562.195953,601.76172,562.195953\n",
    "601.76172,562.195953,601.76172,513.94659\n",
    "426.11237,509.06744,456.47152,509.06744\n",
    "456.47152,509.06744,456.47152,556.232548\n",
    "456.47152,556.232548,426.11237,556.232548\n",
    "426.11237,556.232548,426.11237,509.06744\n",
    "462.43491,508.5253,491.709805,508.5253\n",
    "491.709805,508.5253,491.709805,556.232537\n",
    "491.709805,556.232537,462.43491,556.232537\n",
    "462.43491,556.232537,462.43491,508.5253\n",
    "133.90553,426.66403,217.393193,426.66403\n",
    "217.393193,426.66403,217.393193,472.74487500000004\n",
    "217.393193,472.74487500000004,133.90553,472.74487500000004\n",
    "133.90553,472.74487500000004,133.90553,426.66403\n",
    "221.73022,425.03766,307.386394,425.03766\n",
    "307.386394,425.03766,307.386394,474.371278\n",
    "307.386394,474.371278,221.73022,474.371278\n",
    "221.73022,474.371278,221.73022,425.03766\n",
    "90.535324,290.04785,126.31575000000001,290.04785\n",
    "126.31575000000001,290.04785,126.31575000000001,323.11764\n",
    "126.31575000000001,323.11764,90.535324,323.11764\n",
    "90.535324,323.11764,90.535324,290.04785\n",
    "90.535324,327.45465,125.231491,327.45465\n",
    "125.231491,327.45465,125.231491,356.72954500000003\n",
    "125.231491,356.72954500000003,90.535324,356.72954500000003\n",
    "90.535324,356.72954500000003,90.535324,327.45465\n",
    "91.619576,362.69296,126.31575099999999,362.69296\n",
    "126.31575099999999,362.69296,126.31575099999999,395.220632\n",
    "126.31575099999999,395.220632,91.619576,395.220632\n",
    "91.619576,395.220632,91.619576,362.69296"
   ]
  },
  {
   "cell_type": "markdown",
   "metadata": {},
   "source": [
    "* And for the doors (porte.lines): "
   ]
  },
  {
   "cell_type": "code",
   "execution_count": 4,
   "metadata": {
    "collapsed": false
   },
   "outputs": [
    {
     "data": {
      "text/plain": [
       "(499.02853, 406.334252, 499.02853, 375.9751)"
      ]
     },
     "execution_count": 4,
     "metadata": {},
     "output_type": "execute_result"
    }
   ],
   "source": [
    "394.04666,192.92682,418.873833,192.92682\n",
    "418.873833,192.92682,418.873833,222.633142\n",
    "418.873833,222.633142,394.04666,222.633142\n",
    "394.04666,222.633142,394.04666,192.92682\n",
    "389.24768,147.73935,422.588508,147.73935\n",
    "422.588508,147.73935,422.588508,176.201054\n",
    "422.588508,176.201054,389.24768,176.201054\n",
    "389.24768,176.201054,389.24768,147.73935\n",
    "498.75748,198.15721,526.677055,198.15721\n",
    "526.677055,198.15721,526.677055,227.43210499999998\n",
    "526.677055,227.43210499999998,498.75748,227.43210499999998\n",
    "498.75748,227.43210499999998,498.75748,198.15721\n",
    "559.47577,223.63722,590.648112,223.63722\n",
    "590.648112,223.63722,590.648112,250.47254\n",
    "590.648112,250.47254,559.47577,250.47254\n",
    "559.47577,250.47254,559.47577,223.63722\n",
    "561.37323,348.86871,590.37706,348.86871\n",
    "590.37706,348.86871,590.37706,375.975094\n",
    "590.37706,375.975094,561.37323,375.975094\n",
    "561.37323,375.975094,561.37323,348.86871\n",
    "499.02853,375.9751,526.9481049999999,375.9751\n",
    "526.9481049999999,375.9751,526.9481049999999,406.334252\n",
    "526.9481049999999,406.334252,499.02853,406.334252\n",
    "499.02853,406.334252,499.02853,375.9751"
   ]
  },
  {
   "cell_type": "markdown",
   "metadata": {},
   "source": [
    "## Third step (Description of the code)"
   ]
  },
  {
   "cell_type": "markdown",
   "metadata": {},
   "source": [
    "### In the third and last step, I wrote a code that generated a HPC Model represent the House structure, based on svg input. I wrote a single function named ggpl_building_house(), without formal paremeters, but read the input data from .lines files: "
   ]
  },
  {
   "cell_type": "code",
   "execution_count": 5,
   "metadata": {
    "collapsed": false
   },
   "outputs": [
    {
     "name": "stdout",
     "output_type": "stream",
     "text": [
      "Evaluating fenvs.py..\n",
      "...fenvs.py imported in 0.007418 seconds\n"
     ]
    }
   ],
   "source": [
    "from pyplasm import *\n",
    "import csv\n",
    "\n",
    "def ggpl_building_house():\n",
    "\t\"\"\"\n",
    "\tggpl_building_house is a function that generate the HPC Model represent the house structure by the input file in .lines files.\n",
    "\t@return house_building: HPC Model represent the structure.\n",
    "\t\"\"\"\n",
    "\twith open(\"muri_esterni.lines\", \"rb\") as file:\n",
    "\t\treader = csv.reader(file, delimiter=\",\")\n",
    "\t\tlistExternalWalls = []\n",
    "\t\tfor row in reader:\n",
    "\t\t\tlistExternalWalls.append(POLYLINE([[float(row[0]), float(row[1])],[float(row[2]), float(row[3])]]))\n",
    "\texternalWalls = STRUCT(listExternalWalls)\n",
    "\tfloor = SOLIDIFY(externalWalls)\n",
    "\txfactor = 15/SIZE([1])(externalWalls)[0]\n",
    "\tyfactor = 15.1/SIZE([2])(externalWalls)[0]\n",
    "\texternalWalls = OFFSET([12,12])(externalWalls)\n",
    "\texternalWalls = PROD([externalWalls, Q(3/xfactor)])\n",
    "\n",
    "\twith open(\"muri_interni.lines\", \"rb\") as file:\n",
    "\t\treader = csv.reader(file, delimiter=\",\")\n",
    "\t\tlistInternalWalls = []\n",
    "\t\tfor row in reader:\n",
    "\t\t\tlistInternalWalls.append(POLYLINE([[float(row[0]), float(row[1])],[float(row[2]), float(row[3])]]))\n",
    "\tinternalWalls = STRUCT(listInternalWalls)\n",
    "\tinternalWalls = OFFSET([7,7])(internalWalls)\n",
    "\n",
    "\n",
    "\tinternalWalls = PROD([internalWalls, Q(3/xfactor)])\n",
    "\n",
    "\twith open(\"porte.lines\", \"rb\") as file:\n",
    "\t\treader = csv.reader(file, delimiter=\",\")\n",
    "\t\tdoorsList = []\n",
    "\t\tcuboid = []\n",
    "\t\tacc = 0\n",
    "\t\tfor row in reader:\n",
    "\t\t\tacc = acc + 1\n",
    "\t\t\tcuboid.append([float(row[0]),float(row[1])])\n",
    "\t\t\tif(acc == 4):\n",
    "\t\t\t\tdoorsList.append(MKPOL([cuboid,[[1,2,3,4]],None]))\n",
    "\t\t\t\tcuboid = []\n",
    "\t\t\t\tacc = 0\n",
    "\tdoors = STRUCT(doorsList)\n",
    "\tdoors = PROD([doors, Q(2.5/xfactor)])\n",
    "\n",
    "\twith open(\"finestre.lines\", \"rb\") as file:\n",
    "\t\treader = csv.reader(file, delimiter=\",\")\n",
    "\t\twindowList = []\n",
    "\t\tcuboid = []\n",
    "\t\tacc = 0\n",
    "\t\tfor row in reader:\n",
    "\t\t\tacc = acc + 1\n",
    "\t\t\tcuboid.append([float(row[0]),float(row[1])])\n",
    "\t\t\tif(acc == 4):\n",
    "\t\t\t\twindowList.append(MKPOL([cuboid,[[1,2,3,4]],None]))\n",
    "\t\t\t\tcuboid = []\n",
    "\t\t\t\tacc = 0\n",
    "\twindows = STRUCT(windowList)\n",
    "\twindows = PROD([windows, Q(SIZE([3])(externalWalls)[0]/2.)])\n",
    "\twindows = T(3)(SIZE([3])(externalWalls)[0]/4.)(windows)\n",
    "\n",
    "\tframe = STRUCT([externalWalls, internalWalls])\n",
    "\tframe = DIFFERENCE([frame, doors, windows])\n",
    "\n",
    "\tframe = (S([1,2,3])([xfactor,yfactor, xfactor])(frame))\n",
    "\tfloor = (S([1,2,3])([xfactor,yfactor, xfactor])(floor))\n",
    "\tfloor = TEXTURE(\"texture/parquet.jpg\")(floor)\n",
    "\tframe = TEXTURE(\"texture/wall.jpg\")(frame)\n",
    "\n",
    "\treturn STRUCT([floor, frame])"
   ]
  },
  {
   "cell_type": "markdown",
   "metadata": {},
   "source": [
    "### I worked for a single components (external walls, internal walls, windows, doors) separately, and at the end I structed the components with STRUCT function. I generated the floor with SOLIDIFY function, at the end resized the model and applied a TEXTURE for the floor and frame."
   ]
  },
  {
   "cell_type": "markdown",
   "metadata": {},
   "source": [
    "### List of variables:\n",
    "* listExternalWalls: list that contain the coordinates of the external walls.\n",
    "* externalWalls: HPC represent the external walls.\n",
    "* floor: represent the floor of the structure.\n",
    "* xfactor and yfactor: represent the scale factor (real width and real height of the structure) for the x and the y respectively.\n",
    "* listInternalWalls: list that contain the coordinates of the internal walls.\n",
    "* internalWalls: HPC represent the internal walls.\n",
    "* doorsList: list that containt the HPC represent the polyhedra.\n",
    "* cuboid and acc: represent a helper's list and a integer's list, respectively.\n",
    "* doors: HPC represent the doors.\n",
    "* windowList: list that contain the HPC represent the polyhedra.\n",
    "* windows: HPC represent the windows."
   ]
  },
  {
   "cell_type": "markdown",
   "metadata": {},
   "source": [
    "### Examples of result:"
   ]
  },
  {
   "cell_type": "markdown",
   "metadata": {},
   "source": [
    "![title](img/Example_1.png)"
   ]
  },
  {
   "cell_type": "markdown",
   "metadata": {},
   "source": [
    "![title](img/Example_2.png)"
   ]
  },
  {
   "cell_type": "markdown",
   "metadata": {},
   "source": [
    "![title](img/Example_3.png)"
   ]
  },
  {
   "cell_type": "code",
   "execution_count": null,
   "metadata": {
    "collapsed": true
   },
   "outputs": [],
   "source": []
  }
 ],
 "metadata": {
  "anaconda-cloud": {},
  "kernelspec": {
   "display_name": "Python [conda root]",
   "language": "python",
   "name": "conda-root-py"
  },
  "language_info": {
   "codemirror_mode": {
    "name": "ipython",
    "version": 2
   },
   "file_extension": ".py",
   "mimetype": "text/x-python",
   "name": "python",
   "nbconvert_exporter": "python",
   "pygments_lexer": "ipython2",
   "version": "2.7.12"
  }
 },
 "nbformat": 4,
 "nbformat_minor": 1
}
