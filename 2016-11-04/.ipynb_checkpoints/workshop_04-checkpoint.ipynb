{
 "cells": [
  {
   "cell_type": "markdown",
   "metadata": {},
   "source": [
    "# Parametric House Roofs"
   ]
  },
  {
   "cell_type": "markdown",
   "metadata": {},
   "source": [
    "### I defined a single Python function named ggpl_cross_hipped, with a (verts, cell) parameters, that represent the lists of verts and cells"
   ]
  },
  {
   "cell_type": "markdown",
   "metadata": {},
   "source": [
    "### I choosed the model represented in Figure:"
   ]
  },
  {
   "cell_type": "markdown",
   "metadata": {},
   "source": [
    "![alt tag](http://rempferconstruction.com/wp-content/uploads/2015/02/crosshippedroof.png)"
   ]
  },
  {
   "cell_type": "markdown",
   "metadata": {},
   "source": [
    "### List the variable that used in my code:\n",
    "* roof_skeleton: represent the skeleton of roof, for generate the beams\n",
    "* beams: represent the beams HPC of the roof\n",
    "* roof: represent the roof HPC\n",
    "* ukpol: represent the UKPOL of the roof's skeleton"
   ]
  },
  {
   "cell_type": "markdown",
   "metadata": {},
   "source": [
    "## Description of the code:"
   ]
  },
  {
   "cell_type": "markdown",
   "metadata": {},
   "source": [
    "### I used more helpers function and a helpers module (numpy), the first helpers function is normalize_value_in_list:"
   ]
  },
  {
   "cell_type": "code",
   "execution_count": 5,
   "metadata": {
    "collapsed": true
   },
   "outputs": [],
   "source": [
    "def normalize_value_in_list(list):\n",
    "\t\"\"\"\n",
    "\tnormalize_value_in_list is function that rounds float in list.\n",
    "\tReturn a normalized list.\n",
    "\t@param list: Float's list\n",
    "\t@return list: Float's list, that contains the rounds float.\n",
    "\t\"\"\"\n",
    "\tfor j in range(len(list)):\n",
    "\t\tfor i in range(len(list[j])):\n",
    "\t\t\tif(abs(list[j][i]) < 0.001):\n",
    "\t\t\t\tlist[j][i] = 0\n",
    "\t\t\telse:\n",
    "\t\t\t\tlist[j][i] = round(list[j][i], 1)\n",
    "\treturn list"
   ]
  },
  {
   "cell_type": "markdown",
   "metadata": {},
   "source": [
    "### In this function, I rounds the value of the list, and return the normalized list."
   ]
  },
  {
   "cell_type": "markdown",
   "metadata": {},
   "source": [
    "### The second helpers function is makeDictOfPoints:"
   ]
  },
  {
   "cell_type": "code",
   "execution_count": 6,
   "metadata": {
    "collapsed": true
   },
   "outputs": [],
   "source": [
    "def makeDictOfPoints(listUkpol):\n",
    "\t\"\"\"\n",
    "\tmakeDict is a function that create a Python's dictionary, which contain verts as key, and point's lists, that incident verts, as value.\n",
    "\tReturn a dictionary.\n",
    "\t@param listUkpol: List that contain verts list and cells list.\n",
    "\t@return dictionary: Dictionary that contain verts as key and point's list as value\n",
    "\t\"\"\"\n",
    "\tdictionary = {}\n",
    "\tverts = listUkpol[0]\n",
    "\tcells = listUkpol[1]\n",
    "\tfor cell in cells: \n",
    "\t\tfor label in cell:\n",
    "\t\t\tpoint = str(normalize_value_in_list(verts)[int(label)-1])\n",
    "\t\t\tif(point not in dictionary):\n",
    "\t\t\t\tdictionary[point] = []\n",
    "\t\t\tdictionary[point].append(label)\n",
    "\treturn dictionary"
   ]
  },
  {
   "cell_type": "markdown",
   "metadata": {},
   "source": [
    "### In this function I created a dictionary that contains verts as key and point's list as value. The formal parameter is listUkpol that represents the UKPOL of the roof HPC."
   ]
  },
  {
   "cell_type": "markdown",
   "metadata": {},
   "source": [
    "### The third helpers function is verifyPlanary:"
   ]
  },
  {
   "cell_type": "code",
   "execution_count": 7,
   "metadata": {
    "collapsed": true
   },
   "outputs": [],
   "source": [
    "def verifyPlanary(verts, cells):\n",
    "\t\"\"\"\n",
    "\tverifyPlanary is a function that verify the planary of roof faces.\n",
    "\tReturn True or False, depending on all faces is planary or not.\n",
    "\t@param verts: List that contain all verts.\n",
    "\t@param cells: List that contain all cells.\n",
    "\t@return bool: Boolean\n",
    "\t\"\"\"\n",
    "\tverts = normalize_value_in_list(verts)\n",
    "\tfor cell in cells:\n",
    "\t\tif(len(cell) > 3):\n",
    "\t\t\tm = []\n",
    "\t\t\tlastPoint = cell[-1]\n",
    "\t\t\tfor label in cell:\n",
    "\t\t\t\tpoint = verts[int(label)-1]\n",
    "\t\t\t\trow = [] \n",
    "\t\t\t\tfor i in range(len(point)):\n",
    "\t\t\t\t\trow.append(point[i]-verts[lastPoint-1][i])\n",
    "\t\t\t\tm.append(row)\n",
    "\t\t\t\tA = numpy.matrix(m)\n",
    "\t\t\t\tif(numpy.linalg.matrix_rank(A) > 2):\n",
    "\t\t\t\t\treturn False\n",
    "\treturn True"
   ]
  },
  {
   "cell_type": "markdown",
   "metadata": {},
   "source": [
    "### In this function I verified planary of all roof faces, the planary of face is calculated, with a matrix and rank of matrix, if the cell > 3 and the rank of matrix is > 2 then the face isn't planary. The matrix is generated to append the point at row."
   ]
  },
  {
   "cell_type": "markdown",
   "metadata": {},
   "source": [
    "### The main function:"
   ]
  },
  {
   "cell_type": "code",
   "execution_count": 8,
   "metadata": {
    "collapsed": true
   },
   "outputs": [],
   "source": [
    "def ggpl_cross_hipped(verts, cells):\n",
    "\t\"\"\"\n",
    "\tggpl_cross_hipped is a main function that return a roof HPC.\n",
    "\t@param verts: List that contain all verts.\n",
    "\t@param cells: List that contain all cells.\n",
    "\t@return HPC: HPC model represent the Roof or String Error.\n",
    "\t\"\"\"\n",
    "\troof_skeleton = MKPOL([verts, cells, None])\n",
    "\tbeams = OFFSET([.1,.1,.1])(SKEL_1(roof_skeleton))\n",
    "\troof = MKPOL([verts, cells[:-2], None])\n",
    "\tukpol = UKPOL(SKEL_2(roof))\n",
    "\troof = OFFSET([.1,.1,.1])(roof)\n",
    "\troof = T([3])([.1])(roof)\n",
    "\tbeams = COLOR(GREEN)(beams)\n",
    "\tif(verifyPlanary(ukpol[0], ukpol[1])):\n",
    "\t\treturn STRUCT([roof, beams])\n",
    "\telse: \n",
    "\t\tprint('The planary is not satisfied')"
   ]
  },
  {
   "cell_type": "markdown",
   "metadata": {},
   "source": [
    "### In this function, I generated a beams of the Roof, with roof_skeleton and OFFSET function, generated ukpol for verified the Roof planary, and generated the roof with tick (in OFFSET function)."
   ]
  },
  {
   "cell_type": "markdown",
   "metadata": {},
   "source": [
    "## Example of Result:"
   ]
  },
  {
   "cell_type": "markdown",
   "metadata": {},
   "source": [
    "## First Example: "
   ]
  },
  {
   "cell_type": "markdown",
   "metadata": {},
   "source": [
    "![title](img/Example_1_Foreground.png)"
   ]
  },
  {
   "cell_type": "markdown",
   "metadata": {},
   "source": [
    "### In this Figure the model is in Foreground, where the beams color is Green and the Roof color is white."
   ]
  },
  {
   "cell_type": "markdown",
   "metadata": {},
   "source": [
    "![title](img/Example_1_below.png)"
   ]
  },
  {
   "cell_type": "markdown",
   "metadata": {},
   "source": [
    "### First example, from below"
   ]
  },
  {
   "cell_type": "markdown",
   "metadata": {},
   "source": [
    "![title](img/Example_1_above.png)"
   ]
  },
  {
   "cell_type": "markdown",
   "metadata": {},
   "source": [
    "### At the end First Example from above.\n",
    "### In this Example I used:\n",
    "* verts = [[0,0,0], [0,3,0], [6,3,0], [6,9,0], [9,9,0],[9,0,0],[1.5,1.5,2],[7.5,1.5,2],[7.5,7.5,2]]\n",
    "* cells = [[1,7,2], [2,7,8,3], [3,8,9,4], [4,9,5], [8,6,5,9], [1,6,8,7], [1,6,3,2], [3,6,5,4]]"
   ]
  },
  {
   "cell_type": "markdown",
   "metadata": {},
   "source": [
    "## Second Example:"
   ]
  },
  {
   "cell_type": "markdown",
   "metadata": {},
   "source": [
    "![title](img/Example_2_Foreground.png)"
   ]
  },
  {
   "cell_type": "markdown",
   "metadata": {},
   "source": [
    "### Second Example in Foreground"
   ]
  },
  {
   "cell_type": "markdown",
   "metadata": {},
   "source": [
    "![title](img/Example_2_below.png)"
   ]
  },
  {
   "cell_type": "markdown",
   "metadata": {},
   "source": [
    "### First Example, from below"
   ]
  },
  {
   "cell_type": "markdown",
   "metadata": {},
   "source": [
    "![title](img/Example_2_above.png)"
   ]
  },
  {
   "cell_type": "markdown",
   "metadata": {},
   "source": [
    "### At the end Second Example from above."
   ]
  },
  {
   "cell_type": "markdown",
   "metadata": {},
   "source": [
    "### In this Example I used: \n",
    "* verts = [[0,0,0], [0,9,0],[9,0,0],[9,3,0],[3,3,0],[3,6,0],[9,6,0],[9,9,0],[7.5,1.5,2],[1.5,1.5,2],[1.5,7.5,2],[7.5,7.5,2]]\n",
    "* cells = [[3,4,9],[3,9,10,1],[1,10,11,2],[10,5,6,11],[4,9,10,5],[2,8,12,11],[6,11,12,7],[7,8,12],[1,5,4,3],[2,8,7,6]]"
   ]
  },
  {
   "cell_type": "code",
   "execution_count": null,
   "metadata": {
    "collapsed": true
   },
   "outputs": [],
   "source": []
  }
 ],
 "metadata": {
  "anaconda-cloud": {},
  "kernelspec": {
   "display_name": "Python [conda root]",
   "language": "python",
   "name": "conda-root-py"
  },
  "language_info": {
   "codemirror_mode": {
    "name": "ipython",
    "version": 2
   },
   "file_extension": ".py",
   "mimetype": "text/x-python",
   "name": "python",
   "nbconvert_exporter": "python",
   "pygments_lexer": "ipython2",
   "version": "2.7.12"
  }
 },
 "nbformat": 4,
 "nbformat_minor": 1
}
