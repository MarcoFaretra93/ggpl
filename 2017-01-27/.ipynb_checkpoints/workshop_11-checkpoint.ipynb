{
 "cells": [
  {
   "cell_type": "markdown",
   "metadata": {},
   "source": [
    "# Housing: suburban neighborhood design"
   ]
  },
  {
   "cell_type": "markdown",
   "metadata": {},
   "source": [
    "### I defined a single main function named suburban_neighborhood with 2 helpers function. I choosed the model represent in Figure:"
   ]
  },
  {
   "cell_type": "markdown",
   "metadata": {},
   "source": [
    "![title](img/model.jpg)"
   ]
  },
  {
   "cell_type": "markdown",
   "metadata": {},
   "source": [
    "## Description of the code"
   ]
  },
  {
   "cell_type": "markdown",
   "metadata": {},
   "source": [
    "### The first helper function is create_enclosure, I used this function for create enclosure of the model:"
   ]
  },
  {
   "cell_type": "code",
   "execution_count": 1,
   "metadata": {
    "collapsed": true
   },
   "outputs": [],
   "source": [
    "def create_enclosure(dx, dy, dz):\n",
    "\t\"\"\"\n",
    "\tcreate_enclosure is a function that return a HPC Model represent the enclosure with dx (width), dy (depth), dz (height)\n",
    "\t@param dx: Integer represent the width of the enclosure.\n",
    "\t@param dy: Integer represent the depth of the enclosure.\n",
    "\t@param dz: Integer represent the height of the enclosure.\n",
    "\t@return enclosure: HPC Model represent the enclosure. \n",
    "\t\"\"\"\n",
    "\tenclosure = []\n",
    "\tcont = dx\n",
    "\twhile(cont > 0):\n",
    "\t\ttile = CUBOID([.5, dy, dz])\n",
    "\t\ttile = T([1])(dx - cont)(tile)\n",
    "\t\tenclosure.append(tile)\n",
    "\t\tcont = cont - 1\n",
    "\tbigTileUp = CUBOID([dx, dy/2, dz*.1])\n",
    "\tbigTileUp = T([3])(dz*.7)(bigTileUp)\n",
    "\tbigTileDown = CUBOID([dx, dy/2, dz*.2])\n",
    "\tbigTileDown = T([3])(dz*.2)(bigTileDown)\n",
    "\tenclosure.append(bigTileDown)\n",
    "\tenclosure.append(bigTileUp)\n",
    "\treturn STRUCT(enclosure)\n"
   ]
  },
  {
   "cell_type": "markdown",
   "metadata": {},
   "source": [
    "#### I defined the tile of the enclosure equal to 0.5, and the distance of two tile is 0.5, I loop this value for dx, and at the end define the trasversal tile of the enclosure."
   ]
  },
  {
   "cell_type": "markdown",
   "metadata": {},
   "source": [
    "### The second helper function is create_and_position_house, I used this function for create and positioning the house into the model:"
   ]
  },
  {
   "cell_type": "code",
   "execution_count": 2,
   "metadata": {
    "collapsed": true
   },
   "outputs": [],
   "source": [
    "def create_and_position_house(rotate, model, transX, transY):\n",
    "\t\"\"\"\n",
    "\tcreate_and_position_house is a function that create and translate the house by rotate, type of model, trans for asix x and trans for asix y.\n",
    "\t@param rotate: angle for rotation of the house.\n",
    "\t@param model: String represent the type of the model.\n",
    "\t@param transX: Float, represent the translation for asix x\n",
    "\t@param transY: Float, represent the translation for asix y\n",
    "\t@return house: HPC Model in the correct position.\n",
    "\t\"\"\"\n",
    "\thouse = R([1,2])(rotate)(model)\n",
    "\tif rotate == PI:\n",
    "\t\thouse = T([1,2])([SIZE([1])(house)[0], SIZE([2])(house)[0]])(house)\n",
    "\telif rotate == PI/2:\n",
    "\t\thouse = T([1])(SIZE([1])(house)[0])(house)\n",
    "\telif rotate == PI/4:\n",
    "\t\thouse = T([1])(SIZE([1])(house)[0]/2)(house)\n",
    "\telif rotate == -PI/2:\n",
    "\t\thouse = T([2])(SIZE([2])(house)[0])(house)\n",
    "\thouse = T([1,2])([transX,transY])(house)\n",
    "\treturn house"
   ]
  },
  {
   "cell_type": "markdown",
   "metadata": {},
   "source": [
    "#### I defined the T for rotate, because it is could change. "
   ]
  },
  {
   "cell_type": "markdown",
   "metadata": {},
   "source": [
    "### At the end, the main function:"
   ]
  },
  {
   "cell_type": "code",
   "execution_count": 3,
   "metadata": {
    "collapsed": true
   },
   "outputs": [],
   "source": [
    "def suburban_neighborhood():\n",
    "\t\"\"\"\n",
    "\tsuburban_neighborhood is a function that return a HPC Model represent the complete suburban_neighborhood.\n",
    "\t@return model: HPC Model represent the complete suburban_neighborhood.\n",
    "\t\"\"\"\n",
    "\thouses = []\n",
    "\talleyways = []\n",
    "\tenclosures = []\n",
    "\t#create the models of the house (workshop_10), scale for dimension 10X9.\n",
    "\tfirstHouseModel = houseBuilder.multistorey_house(2, 'helpers/first_model', xfactor, yfactor, zfactor)(XWindow, YWindow, occurrencyWindow)(XDoor, YDoor, occurencyDoor)('helpers/first_model_muri_esterni_1.lines', PI/5., 3/zfactor)\n",
    "\tfirstHouseModel = S([1,2])([10/SIZE([1])(firstHouseModel)[0], 10/SIZE([2])(firstHouseModel)[0]])(firstHouseModel)\n",
    "\n",
    "\tsecondHouseModel = houseBuilder.multistorey_house(2, 'helpers/second_model', xfactor2, yfactor2, zfactor2)(XWindow, YWindow, occurrencyWindow)(XDoor, YDoor, occurencyDoor)('helpers/second_model_muri_esterni_1.lines', PI/5., 3/zfactor2)\n",
    "\tsecondHouseModel = S([1,2])([10/SIZE([1])(secondHouseModel)[0], 10/SIZE([2])(secondHouseModel)[0]])(secondHouseModel)\n",
    "\n",
    "\t#create the istances of model houses\n",
    "\thouses.append(create_and_position_house(PI/2, firstHouseModel, 3, 5))\n",
    "\thouses.append(create_and_position_house(PI, secondHouseModel, 3, 25))\n",
    "\thouses.append(create_and_position_house(PI, secondHouseModel, 3, 45))\n",
    "\thouses.append(create_and_position_house(PI/4, firstHouseModel, 3,70))\n",
    "\thouses.append(create_and_position_house(0, firstHouseModel, 23, 5))\n",
    "\thouses.append(create_and_position_house(PI/2, secondHouseModel, 23, 25))\n",
    "\thouses.append(create_and_position_house(PI/2, secondHouseModel, 23, 45))\n",
    "\thouses.append(create_and_position_house(PI/2, secondHouseModel, 41, 5))\n",
    "\thouses.append(create_and_position_house(0, firstHouseModel, 41, 25))\n",
    "\thouses.append(create_and_position_house(0, firstHouseModel, 41, 45))\n",
    "\thouses.append(create_and_position_house(0, secondHouseModel, 61, 5))\n",
    "\thouses.append(create_and_position_house(-PI/2, firstHouseModel, 61, 25))\n",
    "\thouses.append(create_and_position_house(-PI/2, firstHouseModel, 61, 45))\n",
    "\tangularHouse = create_and_position_house(PI/4, secondHouseModel, 61, 70)\n",
    "\tangularHouse = T([1])(-SIZE([1])(angularHouse)[0]/2)(angularHouse)\n",
    "\thouses.append(angularHouse)\n",
    "\n",
    "\t#create alleyways left\n",
    "\talleyway = CUBOID([7, 1, .1])\n",
    "\talleyway = T([1,2])([13-5, 6.7])(alleyway)\n",
    "\talleyways.append(alleyway)\n",
    "\n",
    "\talleyway = CUBOID([3, 1, .1])\n",
    "\talleyway = T([1,2])([12, 35-3.3])(alleyway)\n",
    "\talleyways.append(alleyway)\n",
    "\n",
    "\talleyway = CUBOID([3, 1, .1])\n",
    "\talleyway = T([1,2])([12, 55-3.3])(alleyway)\n",
    "\talleyways.append(alleyway)\n",
    "\n",
    "\talleyway = CUBOID([10, 1, .1])\n",
    "\talleyway = R([1,2])(-PI/4)(alleyway)\n",
    "\talleyway = T([1,2])([8, 74.5])(alleyway)\n",
    "\talleyways.append(alleyway)\n",
    "\n",
    "\t#create alleyways right\n",
    "\talleyway = CUBOID([4, 1, .1])\n",
    "\talleyway = T([1,2])([58, 7.3])(alleyway)\n",
    "\talleyways.append(alleyway)\n",
    "\n",
    "\talleyway = CUBOID([8, 1, .1])\n",
    "\talleyway = T([1,2])([58, 32.3])(alleyway)\n",
    "\talleyways.append(alleyway)\n",
    "\n",
    "\talleyway = CUBOID([8, 1, .1])\n",
    "\talleyway = T([1,2])([58, 52.3])(alleyway)\n",
    "\talleyways.append(alleyway)\n",
    "\n",
    "\talleyway = CUBOID([4.5, 1, .1])\n",
    "\talleyway = R([1,2])(PI/4)(alleyway)\n",
    "\talleyway = T([1,2])([57, 69])(alleyway)\n",
    "\talleyways.append(alleyway)\n",
    "\n",
    "\t#create central alleyways with BEZIER pyplasm function\n",
    "\talleyway = MAP(BEZIERCURVE([[20, 3], [24.5, 3], [24.5, 9]]))(INTERVALS(1)(32))\n",
    "\talleyway = OFFSET([1,1])(alleyway)\n",
    "\talleyway = PROD([alleyway, Q(.1)])\n",
    "\talleyways.append(alleyway)\n",
    "\n",
    "\talleyway = MAP(BEZIERCURVE([[20, 22], [30, 22], [30, 25]]))(INTERVALS(1)(32))\n",
    "\talleyway = OFFSET([1,1])(alleyway)\n",
    "\talleyway = PROD([alleyway, Q(.1)])\n",
    "\talleyways.append(alleyway)\n",
    "\n",
    "\talleyway = MAP(BEZIERCURVE([[20, 42], [30, 42], [30, 45]]))(INTERVALS(1)(32))\n",
    "\talleyway = OFFSET([1,1])(alleyway)\n",
    "\talleyway = PROD([alleyway, Q(.1)])\n",
    "\talleyways.append(alleyway)\t\n",
    "\n",
    "\talleyway = MAP(BEZIERCURVE([[47.8, 5], [47.8, 3], [53, 3]]))(INTERVALS(1)(32))\n",
    "\talleyway = OFFSET([1,1])(alleyway)\n",
    "\talleyway = PROD([alleyway, Q(.1)])\n",
    "\talleyways.append(alleyway)\n",
    "\n",
    "\talleyway = MAP(BEZIERCURVE([[43, 29], [42, 19], [53, 20]]))(INTERVALS(1)(32))\n",
    "\talleyway = OFFSET([1,1])(alleyway)\n",
    "\talleyway = PROD([alleyway, Q(.1)])\n",
    "\talleyways.append(alleyway)\n",
    "\n",
    "\talleyway = MAP(BEZIERCURVE([[43, 49], [42, 39], [53, 40]]))(INTERVALS(1)(32))\n",
    "\talleyway = OFFSET([1,1])(alleyway)\n",
    "\talleyway = PROD([alleyway, Q(.1)])\n",
    "\talleyways.append(alleyway)\n",
    "\n",
    "\t#base of the model\n",
    "\tbase = CUBOID([73, 85, -5]);\n",
    "\tbase = MATERIAL([.05,.05,.05,1,  .4,.2,0,1,  0,0,0,0, 0,0,0,1, 100])(base)\n",
    "\n",
    "\t#create a grass of model \n",
    "\txValue = QUOTE([73])\n",
    "\tyValue = QUOTE([85])\n",
    "\tgrass = PROD([xValue, yValue])\n",
    "\tgrass = TEXTURE(\"texture/texture_erba.jpg\")(grass)\n",
    "\n",
    "\t# first straight street\n",
    "\tstraightStreet = CUBOID([5, 60, .5])\n",
    "\tstraightStreet = T([1])([15])(straightStreet)\n",
    "\n",
    "\t#second straight street\n",
    "\tstraightStreet2 = CUBOID([3, 85, .5])\n",
    "\tstraightStreet2 = T([1])([35])(straightStreet2)\n",
    "\n",
    "\t#third straight street\n",
    "\tstraightStreet3 = CUBOID([5, 60, .5])\n",
    "\tstraightStreet3 = T([1])([53])(straightStreet3)\n",
    "\n",
    "\t#fourth straight street\n",
    "\tstraightStreet4 = CUBOID([23, 5, .5])\n",
    "\tstraightStreet4 = T([1,2])([25,70])(straightStreet4)\n",
    "\n",
    "\t#first curve street\n",
    "\tcurveStreet = MAP(BEZIERCURVE([[15, 60], [15, 70], [25, 70]]))(INTERVALS(1)(32))\n",
    "\tcurveStreet = OFFSET([5,5])(curveStreet)\n",
    "\tcurveStreet = PROD([curveStreet, Q(.5)])\n",
    "\n",
    "\t#second curve street\n",
    "\tcurveStreet2 = MAP(BEZIERCURVE([[48, 70], [58, 70], [58, 60]]))(INTERVALS(1)(32))\n",
    "\tcurveStreet2 = OFFSET([-5,5])(curveStreet2)\n",
    "\tcurveStreet2 = PROD([curveStreet2, Q(.5)])\n",
    "\n",
    "\t#create enclosure\n",
    "\tenclosure = create_enclosure(85, .1, 1.5)\n",
    "\tenclosure = R([1,2])(PI/2)(enclosure)\n",
    "\tenclosures.append(enclosure)\n",
    "\n",
    "\tenclosure = create_enclosure(85, .1, 1.5)\n",
    "\tenclosure = R([1,2])(PI/2)(enclosure)\n",
    "\tenclosure = T([1])(73)(enclosure)\n",
    "\tenclosures.append(enclosure)\n",
    "\n",
    "\tenclosure = create_enclosure(15, .1, 1.5)\n",
    "\tenclosures.append(enclosure)\n",
    "\n",
    "\tenclosure = create_enclosure(35, .1, 1.5)\n",
    "\tenclosure = T([2])(85)(enclosure)\n",
    "\tenclosures.append(enclosure)\n",
    "\n",
    "\tenclosure = create_enclosure(15, .1, 1.5)\n",
    "\tenclosure = T([1])(20)(enclosure)\n",
    "\tenclosures.append(enclosure)\n",
    "\n",
    "\tenclosure = create_enclosure(15, .1, 1.5)\n",
    "\tenclosure = T([1])(38)(enclosure)\n",
    "\tenclosures.append(enclosure)\n",
    "\n",
    "\tenclosure = create_enclosure(35, .1, 1.5)\n",
    "\tenclosure = T([1,2])([38, 85])(enclosure)\n",
    "\tenclosures.append(enclosure)\n",
    "\n",
    "\tenclosure = create_enclosure(15, .1, 1.5)\n",
    "\tenclosure = T([1])(58)(enclosure)\n",
    "\tenclosures.append(enclosure)\n",
    "\n",
    "\tenclosure = create_enclosure(15, .1, 1.5)\n",
    "\tenclosure = T([2])(20)(enclosure)\n",
    "\tenclosures.append(enclosure)\n",
    "\n",
    "\tenclosure = create_enclosure(15, .1, 1.5)\n",
    "\tenclosure = T([2])(40)(enclosure)\n",
    "\tenclosures.append(enclosure)\n",
    "\n",
    "\tenclosure = create_enclosure(15, .1, 1.5)\n",
    "\tenclosure = T([2])(60)(enclosure)\n",
    "\tenclosures.append(enclosure)\n",
    "\n",
    "\tenclosure = create_enclosure(15, .1, 1.5)\n",
    "\tenclosure = T([1,2])([20, 20])(enclosure)\n",
    "\tenclosures.append(enclosure)\n",
    "\n",
    "\tenclosure = create_enclosure(15, .1, 1.5)\n",
    "\tenclosure = T([1,2])([20, 40])(enclosure)\n",
    "\tenclosures.append(enclosure)\n",
    "\n",
    "\tenclosure = create_enclosure(15, .1, 1.5)\n",
    "\tenclosure = T([1,2])([20, 60])(enclosure)\n",
    "\tenclosures.append(enclosure)\n",
    "\n",
    "\tenclosure = create_enclosure(15, .1, 1.5)\n",
    "\tenclosure = T([1,2])([38, 20])(enclosure)\n",
    "\tenclosures.append(enclosure)\n",
    "\n",
    "\tenclosure = create_enclosure(15, .1, 1.5)\n",
    "\tenclosure = T([1,2])([38, 40])(enclosure)\n",
    "\tenclosures.append(enclosure)\n",
    "\n",
    "\tenclosure = create_enclosure(15, .1, 1.5)\n",
    "\tenclosure = T([1,2])([38, 60])(enclosure)\n",
    "\tenclosures.append(enclosure)\n",
    "\n",
    "\tenclosure = create_enclosure(15, .1, 1.5)\n",
    "\tenclosure = T([1,2])([58, 20])(enclosure)\n",
    "\tenclosures.append(enclosure)\n",
    "\n",
    "\tenclosure = create_enclosure(15, .1, 1.5)\n",
    "\tenclosure = T([1,2])([58, 40])(enclosure)\n",
    "\tenclosures.append(enclosure)\n",
    "\n",
    "\tenclosure = create_enclosure(15, .1, 1.5)\n",
    "\tenclosure = T([1,2])([58, 60])(enclosure)\n",
    "\tenclosures.append(enclosure)\n",
    "\n",
    "\tstreets = STRUCT([straightStreet, straightStreet2, straightStreet3, straightStreet4,curveStreet, curveStreet2])\n",
    "\tstreets = TEXTURE(\"texture/texture_asfalto.jpg\")(streets)\n",
    "\n",
    "\tenclosures = STRUCT(enclosures)\n",
    "\tenclosures = MATERIAL([.05,.05,.05,1,  .4,.2,0,1,  0,0,0,0, 0,0,0,1, 100])(enclosures)\n",
    "\thouses = STRUCT(houses)\n",
    "\talleyways = STRUCT(alleyways)\n",
    "\talleyways = MATERIAL([.05,.05,.05,1,  .25,.25,.25,1,  0,0,0,0, 0,0,0,1, 100])(alleyways)\n",
    "\n",
    "\treturn STRUCT([houses, base, grass, streets, alleyways, enclosures])"
   ]
  },
  {
   "cell_type": "markdown",
   "metadata": {},
   "source": [
    "### List of variable\n",
    "* houses: List that contain all house HPC Models.\n",
    "* alleyways: List that contain all alleyway HPC Models.\n",
    "* enclosures: List that contain all enclosure HPC Models.\n",
    "* firstHouseModel: HPC Model, represent the first model of the house represent in workshop_10, of size 10X10.\n",
    "* secondHouseModel: HPC Model, represent the second model of the house represent in workshop_10, of size 10X10.\n",
    "* base: HPC Model, represent the base of the model.\n",
    "* grass: HPC Model, represent the grass of the model.\n",
    "* straightStreet: HPC Model, represent the first straight street.\n",
    "* straightStreet2: HPC Model, represent the second straight street.\n",
    "* straightStreet3: HPC Model, represent the third straight street.\n",
    "* straightStreet4: HPC Model, represent the fourth straight street.\n",
    "* curveStreet: HPC Model, represent the first curve street.\n",
    "* curveStreet2: HPC Model, represent the second curve street.\n",
    "* streets: List that contain all HPC Models that represent the streets."
   ]
  },
  {
   "cell_type": "markdown",
   "metadata": {},
   "source": [
    "### Step of the main function:\n",
    "* First step: create all house in the correct position.\n",
    "* Second step: create all alleyway in the correct position.\n",
    "* Third strep: create a base of the model.\n",
    "* Fourth step: create a grass.\n",
    "* Fifth step: create all streets of the model.\n",
    "* sixth step: create all enclosure of the model.\n",
    "* Last step: Struct all element."
   ]
  },
  {
   "cell_type": "markdown",
   "metadata": {},
   "source": [
    "## Description of the solution"
   ]
  },
  {
   "cell_type": "markdown",
   "metadata": {},
   "source": [
    "### I used the model with dimension 73 m for asix X, and 85 m for asix Y. Each house has a space 15x20 m, the main street has a 5 m for width, and the central street 3m. The right side houses has a linear alleyway, and the central houses has a curve alleyway (with BEZIER pyplasm function)."
   ]
  },
  {
   "cell_type": "markdown",
   "metadata": {},
   "source": [
    "## Example of the results"
   ]
  },
  {
   "cell_type": "markdown",
   "metadata": {},
   "source": [
    "![title](img/Example_1.png)"
   ]
  },
  {
   "cell_type": "markdown",
   "metadata": {},
   "source": [
    "![title](img/Example_2.png)"
   ]
  },
  {
   "cell_type": "markdown",
   "metadata": {},
   "source": [
    "![title](img/Example_3.png)"
   ]
  },
  {
   "cell_type": "markdown",
   "metadata": {},
   "source": [
    "![title](img/Example_4.png)"
   ]
  },
  {
   "cell_type": "markdown",
   "metadata": {},
   "source": [
    "![title](img/Example_5.png)"
   ]
  },
  {
   "cell_type": "code",
   "execution_count": null,
   "metadata": {
    "collapsed": true
   },
   "outputs": [],
   "source": []
  }
 ],
 "metadata": {
  "anaconda-cloud": {},
  "kernelspec": {
   "display_name": "Python [conda root]",
   "language": "python",
   "name": "conda-root-py"
  },
  "language_info": {
   "codemirror_mode": {
    "name": "ipython",
    "version": 2
   },
   "file_extension": ".py",
   "mimetype": "text/x-python",
   "name": "python",
   "nbconvert_exporter": "python",
   "pygments_lexer": "ipython2",
   "version": "2.7.12"
  }
 },
 "nbformat": 4,
 "nbformat_minor": 1
}
