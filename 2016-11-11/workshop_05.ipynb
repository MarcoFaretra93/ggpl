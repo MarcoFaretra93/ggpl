{
 "cells": [
  {
   "cell_type": "markdown",
   "metadata": {},
   "source": [
    "# School furniture"
   ]
  },
  {
   "cell_type": "markdown",
   "metadata": {},
   "source": [
    "### I defined more python function, one for only HPC Model. I create more model (circle table, chair, professor_desk and closet). I choosed the models represent in Figure:"
   ]
  },
  {
   "cell_type": "markdown",
   "metadata": {},
   "source": [
    "#### This model for closet:"
   ]
  },
  {
   "cell_type": "markdown",
   "metadata": {},
   "source": [
    "![alt image](http://www.mobiliscuola.it/v102004_s_0000.jpg)"
   ]
  },
  {
   "cell_type": "markdown",
   "metadata": {},
   "source": [
    "#### This model for chair:"
   ]
  },
  {
   "cell_type": "markdown",
   "metadata": {},
   "source": [
    "<img src=\"http://www.idfdesign.it/immagini/sedie-per-bambini/940-sedia-di-ridotte-dimensioni.jpg\" style=\"width: 300px; height:auto;\">"
   ]
  },
  {
   "cell_type": "markdown",
   "metadata": {},
   "source": [
    "#### This model for circle table:"
   ]
  },
  {
   "cell_type": "markdown",
   "metadata": {},
   "source": [
    "![alt image](https://3dwarehouse.sketchup.com/warehouse/getpubliccontent?contentId=bb9f7195-e328-40ac-960c-e5381197e58c)"
   ]
  },
  {
   "cell_type": "markdown",
   "metadata": {},
   "source": [
    "#### And at the end, this model for professor desk:"
   ]
  },
  {
   "cell_type": "markdown",
   "metadata": {},
   "source": [
    "<img src=\"http://www.prismarredo.it/ecomm2/album/MOD.1725P.jpg\" style=\"width:300px; height: auto;\">"
   ]
  },
  {
   "cell_type": "markdown",
   "metadata": {},
   "source": [
    "## Description of the code:"
   ]
  },
  {
   "cell_type": "markdown",
   "metadata": {},
   "source": [
    "### The first function is ggpl_circle_table, with formal parameters dx,dy,dz represent the asix of the box that contain the HPC Model, and return a HPC Model that represent the Table:"
   ]
  },
  {
   "cell_type": "code",
   "execution_count": 2,
   "metadata": {
    "collapsed": true
   },
   "outputs": [],
   "source": [
    "def draw_point_in_circle(radius, npoints):\n",
    "\treturn [(COS(2*PI/npoints*x)*radius,SIN(2*PI/npoints*x)*radius) for x in range(0,npoints+1)]\n",
    " \n",
    "def ggpl_circle_table(dx,dy,dz):\n",
    "\t\"\"\"\n",
    "\tggpl_circle_table is a function that generate the circle_table based on formal parameters dx, dy, dz of the box.\n",
    "\t@param dx: represent a X coordinate of the box.\n",
    "\t@param dy: represent a Y coordinate of the box.\n",
    "\t@param dz: represent a Z coordinate of the box.\n",
    "\t@return circle_table: HPC Model represent the circle table\n",
    "\t\"\"\"\n",
    "\ttableThickness = .05\n",
    "\tchairThickness = .02\n",
    "\tsupportThickness = .03\n",
    "\tchairSeat = .175\n",
    "\tgrey = Color4f([184/255., 186/255., 186/255., 1])\n",
    "\n",
    "\ttable = CYLINDER([dx/2. - chairSeat, tableThickness])(100)\n",
    "\ttable = T([3])([dz - tableThickness])(table)\n",
    "\ttable = COLOR(Color4f([38/255.,226/255.,189/255.,1]))(table)\n",
    "\tdifferenceTableChair = (dz - tableThickness - chairThickness - supportThickness)/2.\n",
    "\ttraslations = (draw_point_in_circle((dx - 2*chairSeat)/2.,16))[::2]\n",
    "\n",
    "\tseat = CYLINDER([chairSeat,chairThickness])(100)\n",
    "\tseats = []\n",
    "\n",
    "\tchairSupport = CYLINDER([.03, differenceTableChair + supportThickness])(100)\n",
    "\tchairSupport = COLOR(grey)(chairSupport)\n",
    "\tmainSupport = CYLINDER([.15, dz - tableThickness])(100)\n",
    "\tmainSupport = COLOR(grey)(mainSupport)\n",
    "\tsupport = CYLINDER([supportThickness/2., dx/2. - 2*chairSeat/2.])(100)\n",
    "\tsupport = MAP([S3,S2,S1])(support)\n",
    "\tsupport = T([3])(differenceTableChair/2.)(support)\n",
    "\tsupport = COLOR(grey)(support)\n",
    "\tsupports = [support, R([1,2])(2*PI/8.)]*8\n",
    "\n",
    "\tfor i in traslations:\n",
    "\t\ttemp = T([1,2,3])([i[0],i[1],differenceTableChair + supportThickness])(seat)\n",
    "\t\tseats.append(COLOR(Color4f([random.random()*255/255.,random.random()*255/255.,random.random()*255/255.,1]))(temp))\n",
    "\t\tseats.append(T([1,2])([i[0],i[1]])(chairSupport))\n",
    "\n",
    "\tbox = SKEL_1(CUBOID([dx,dy,dz]))\n",
    "\tbox = T([1,2])([-dx/2.,-dy/2.])(box)\n",
    "\tseats = seats + supports\n",
    "\tseats.append(mainSupport)\n",
    "\tseats.append(box)\n",
    "\tseats.append(table)\n",
    "\treturn STRUCT(seats)"
   ]
  },
  {
   "cell_type": "markdown",
   "metadata": {},
   "source": [
    "#### List of variable:\n",
    "* tableThickness: represent the thickness of the table\n",
    "* chairThickness: represent the thickness of the chair\n",
    "* supportThickness: represent the thickness of the support under the table plane.\n",
    "* table: The HPC that represent the table plane.\n",
    "* differenceTableChair: represent the distance from chair to table plane.\n",
    "* traslations: represent the more cylinder, that represent the small chairs.\n",
    "* seat: The cylinder that represent the seat of the chairs.\n",
    "* seats: List that contain more HPC Model.\n",
    "* chairSupport: represent the support at the base of the chair.\n",
    "* mainSupport: represent the main support at the base of the table.\n",
    "* support: represent the support of the table and chair.\n",
    "* supports: List that contain more support for another chair.\n",
    "* box: represent the box of the HPC Model."
   ]
  },
  {
   "cell_type": "markdown",
   "metadata": {},
   "source": [
    "#### This is an Example of the result:"
   ]
  },
  {
   "cell_type": "markdown",
   "metadata": {},
   "source": [
    "![title](img/Example_1.png)"
   ]
  },
  {
   "cell_type": "markdown",
   "metadata": {},
   "source": [
    "### The second function is ggpl_chair, with formal parameters dx,dy,dz represent the asix of the box that contain the HPC Model, and return a HPC Model that represent the Professor Chair:"
   ]
  },
  {
   "cell_type": "code",
   "execution_count": 3,
   "metadata": {
    "collapsed": true
   },
   "outputs": [],
   "source": [
    "def ggpl_chair(dx,dy,dz):\n",
    "\t\"\"\"\n",
    "\tggpl_chair is a function that generate the chair based on formal parameters dx, dy, dz of the box.\n",
    "\t@param dx: represent a X coordinate of the box.\n",
    "\t@param dy: represent a Y coordinate of the box.\n",
    "\t@param dz: represent a Z coordinate of the box.\n",
    "\t@return chair: HPC Model represent the chair.\n",
    "\t\"\"\"\n",
    "\tfootRadius = .05\n",
    "\tseatHeight = .015\n",
    "\tseatBackThickness = .015\n",
    "\tseatBackHeight = dz/6.\n",
    "\tsphere = SPHERE(footRadius)([40,40])\n",
    "\tsphere = JOIN(SKEL_1(sphere))\n",
    "\tchair = []\n",
    "\tfeet = [[0 + footRadius,0 + footRadius],[dx - footRadius,0 + footRadius], [dx - footRadius, dy - footRadius], [0 + footRadius, dy - footRadius]]\n",
    "\tsupport = CYLINDER([1.3*footRadius/2.,dy - 2*footRadius])(100)\n",
    "\tsupport = MAP([S1,S3,S2])(support)\n",
    "\n",
    "\tsideSupport = T([1,2,3])([footRadius,footRadius,dz/4. - footRadius])(support)\n",
    "\tsideSupports = [sideSupport, T([1])([dx - 2*footRadius])(sideSupport)]\n",
    "\n",
    "\totherSideSupport = CYLINDER([1.3*footRadius/2.,dx - 2*footRadius])(100)\n",
    "\totherSideSupport = MAP([S1,S3,S2])(otherSideSupport)\n",
    "\totherSideSupport = R([1,2])(-PI/2.)(otherSideSupport)\n",
    "\totherSideSupport = T([1,2,3])([footRadius,footRadius,7*dz/20.])(otherSideSupport)\n",
    "\totherSideSupports = [otherSideSupport, T([2])([dy-2*footRadius])(otherSideSupport)]\n",
    "\n",
    "\tsupport = S(1)(.75)(support)\n",
    "\tsupport = T([1,2,3])([footRadius,footRadius,dz/2. - footRadius/2.])(support)\n",
    "\tsupports = [support, T([1])([dx - 2*footRadius])(support)]\n",
    "\n",
    "\tseat = CUBOID([dx - 2*footRadius, dy - 2*footRadius, seatHeight])\n",
    "\tseat = T([1,2,3])([footRadius, footRadius, dz/2.-footRadius/2.])(seat)\n",
    "\n",
    "\tseatBack = CUBOID([dx - 2*footRadius, seatBackThickness, seatBackHeight])\n",
    "\tseatBack = T([1,2,3])([footRadius, footRadius, dz - 2*footRadius - seatBackHeight])(seatBack)\n",
    "\n",
    "\tfor foot in feet:\n",
    "\t\tif(foot[1] != footRadius):\n",
    "\t\t\tsolidFoot = CYLINDER([footRadius, dz/2.])(100)\n",
    "\t\t\tfootSphere = T([1,2,3])([foot[0],foot[1],dz/2.])(sphere)\n",
    "\t\telse:\n",
    "\t\t\tsolidFoot = CYLINDER([footRadius, dz - footRadius])(100)\n",
    "\t\t\tfootSphere = T([1,2,3])([foot[0],foot[1],dz - footRadius])(sphere)\n",
    "\t\tsolidFoot = T([1,2])([foot[0],foot[1]])(solidFoot)\n",
    "\t\tchair.append(solidFoot)\n",
    "\t\tchair.append(footSphere)\n",
    "\n",
    "\tbox = SKEL_1(CUBOID([dx,dy,dz]))\n",
    "\tchair.append(box)\n",
    "\tchair.append(seat)\n",
    "\tchair.append(seatBack)\n",
    "\tchair = chair + supports + sideSupports + otherSideSupports\n",
    "\tchair = COLOR(Color4f([193/255., 154/255., 107/255., 1]))(STRUCT(chair))\n",
    "\treturn chair"
   ]
  },
  {
   "cell_type": "markdown",
   "metadata": {},
   "source": [
    "#### List of variables:\n",
    "* footRadius: represent the radius of a single leg of the chair\n",
    "* seatHeight: Represent the distance from origin to seat of the chair.\n",
    "* seatBackThickness: represent the thickness of the chairs back.\n",
    "* seatBackHeight: represent the height of the chairs back.\n",
    "* sphere: represent a sphere that used on the top of the legs.\n",
    "* chair: list that contain more HPC Model, and return in this function.\n",
    "* feet: represent the coordinates for the legs.\n",
    "* support: represent the support that connect more legs. (use for sideSupport and otherSideSupport for create the four support at the base of the chair).\n",
    "* seat: HPC CUBOID that represent the seat of the chair.\n",
    "* seatBack: HPC CUBOID that represent the back of the chair.\n",
    "* solidFoot: HPC CYLINDER, that represent the single leg.\n",
    "* box: represent the box of the HPC Model."
   ]
  },
  {
   "cell_type": "markdown",
   "metadata": {},
   "source": [
    "#### This is an example of the result:"
   ]
  },
  {
   "cell_type": "markdown",
   "metadata": {},
   "source": [
    "![title](img/Example_2.png)"
   ]
  },
  {
   "cell_type": "markdown",
   "metadata": {},
   "source": [
    "### The third function is ggpl_professor_desk, with formal parameters dx,dy,dz represent the asix of the box that contain the HPC Model, and return a HPC Model that represent the Professor Desk:"
   ]
  },
  {
   "cell_type": "code",
   "execution_count": 4,
   "metadata": {
    "collapsed": true
   },
   "outputs": [],
   "source": [
    "def ggpl_professor_desk(dx, dy, dz):\n",
    "\t\"\"\"\n",
    "\tggpl_professor_desk is a function that generate the professor_desk based on formal parameters dx, dy, dz of the box.\n",
    "\t@param dx: represent a X coordinate of the box.\n",
    "\t@param dy: represent a Y coordinate of the box.\n",
    "\t@param dz: represent a Z coordinate of the box.\n",
    "\t@return professor_desk: HPC Model represent the professor desk.\n",
    "\t\"\"\"\n",
    "\tdesk = []\n",
    "\tfootRadius = .05\n",
    "\tdeskThickness = .03\n",
    "\tborder = dx/30\n",
    "\tknobRadius = .02\n",
    "\tfeet = [[0 + footRadius + border,0 + footRadius + border],[dx - footRadius - border,0 + footRadius + border], [dx - footRadius - border, dy - footRadius -border], [0 + footRadius + border, dy - footRadius - border]]\n",
    "\tfor foot in feet:\n",
    "\t\tsolidFoot = CYLINDER([footRadius, dz - deskThickness])(100)\n",
    "\t\tsolidFoot = T([1,2])([foot[0],foot[1]])(solidFoot)\n",
    "\t\tdesk.append(solidFoot)\n",
    "\n",
    "\tdeskPlane = CUBOID([dx, dy, deskThickness])\n",
    "\tdeskPlane = T([3])(dz- deskThickness)(deskPlane)\n",
    "\tdeskPlane = COLOR(Color4f([139/255., 232/255., 184/255., 1]))(deskPlane)\n",
    "\tdesk.append(deskPlane)\n",
    "\n",
    "\tdeskSupport = CUBOID([dx - 2*border - 2* footRadius, footRadius, 2*deskThickness])\n",
    "\tdeskSupportFirst = T([1,2,3])([border+footRadius/2., border + footRadius/2., dz - 3*deskThickness])(deskSupport)\n",
    "\tdeskSupports = [deskSupportFirst, T([1,2,3])([border+footRadius/2., dy-SIZE([2])(deskSupport)[0]-border-footRadius/2, dz - 3*deskThickness])(deskSupport)]\n",
    "\n",
    "\tanotherDeskSupport =  CUBOID([footRadius, dy - 2*border - 2*footRadius, 2*deskThickness])\n",
    "\tanotherDeskSupportFirst = T([1,2,3])([border + footRadius/2, border + footRadius/2, dz - 3*deskThickness])(anotherDeskSupport)\n",
    "\tanotherDeskSupports = [anotherDeskSupportFirst, T([1,2,3])([dx - SIZE([1])(anotherDeskSupport)[0]-border-footRadius/2 ,border + footRadius/2, dz - 3*deskThickness])(anotherDeskSupport)]\n",
    "\n",
    "\tdrawer = CUBOID([dx/3-border-2*footRadius, dy/2., dz/10 + footRadius])\n",
    "\tdrawer = T([1,2,3])([border + 2*footRadius, border + 2*footRadius, dz - deskThickness - 2*deskThickness - dz/10])(drawer)\n",
    "\tdrawerWall = CUBOID([dx/3-border-2*footRadius, footRadius, dz/10])\n",
    "\tdrawerWall = T([1,2,3])([border + 2*footRadius, 2*border, dz - deskThickness - 2*deskThickness - dz/10])(drawerWall)\n",
    "\tknob = SPHERE(knobRadius)([40,40])\n",
    "\tknob = JOIN(SKEL_1(knob))\n",
    "\tknob = T([1,2,3])([border + 2*footRadius + SIZE([1])(drawerWall)[0]/2, border + footRadius*.65, dz - deskThickness - 2*deskThickness - SIZE([3])(drawerWall)[0]/2])(knob)\n",
    "\tdrawers = [drawer, drawerWall, knob, T([1])([dx - 2*border - 4*footRadius - SIZE([1])(drawer)[0]]), drawer, drawerWall, knob]\n",
    "\n",
    "\tbox = SKEL_1(CUBOID([dx,dy,dz]))\n",
    "\n",
    "\tdesk.append(box)\n",
    "\tdesk = desk + deskSupports + anotherDeskSupports + drawers\n",
    "\tdesk = COLOR(Color4f([193/255., 154/255., 107/255., 1]))(STRUCT(desk))\n",
    "\treturn desk"
   ]
  },
  {
   "cell_type": "markdown",
   "metadata": {},
   "source": [
    "#### List of variables:\n",
    "* desk: List that contain the more HPC struct to the result.\n",
    "* deskThickness: represent the thickness of the desk.\n",
    "* border: represent the projection of the table space.\n",
    "* knobRadius: represent the radius of the knob.\n",
    "* feet: represent the coordinates for the legs.\n",
    "* deskPlane: HPC CUBOID that represent the desk plane.\n",
    "* deskSupport and anotherDeskSupport: HPC CUBOID, that represent the support under the desk plane.\n",
    "* drawer: HPC CUBOID that represent the drawer.\n",
    "* drawerWall: HPC CUBOID that represent the block next to drawer.\n",
    "* knob: HPC SPHERE that represent the knob of the drawer."
   ]
  },
  {
   "cell_type": "markdown",
   "metadata": {},
   "source": [
    "#### This is an example of the result:"
   ]
  },
  {
   "cell_type": "markdown",
   "metadata": {},
   "source": [
    "![title](img/Example_3.png)"
   ]
  },
  {
   "cell_type": "markdown",
   "metadata": {},
   "source": [
    "### The fourth function is ggpl_closet, with formal parameters dx,dy,dz represent the asix of the box that contain the HPC Model, and return a HPC Model that represent the Closet:"
   ]
  },
  {
   "cell_type": "code",
   "execution_count": 5,
   "metadata": {
    "collapsed": true
   },
   "outputs": [],
   "source": [
    "def ggpl_closet(dx, dy, dz):\n",
    "\t\"\"\"\n",
    "\tggpl_closet is a function that generate the closet based on formal parameters dx, dy, dz of the box.\n",
    "\t@param dx: represent a X coordinate of the box.\n",
    "\t@param dy: represent a Y coordinate of the box.\n",
    "\t@param dz: represent a Z coordinate of the box.\n",
    "\t@return closet: HPC Model represent the closet.\n",
    "\t\"\"\"\n",
    "\tbrown = Color4f([129/255., 65/255., 13/255., 1])\n",
    "\twaterGreen = Color4f([139/255., 232/255., 184/255., 1])\n",
    "\tcloset = []\n",
    "\tdividerWidth = dx*.05\n",
    "\tmainStructureWidth = dx*.95\n",
    "\tbox = SKEL_1(CUBOID([dx,dy,dz]))\n",
    "\n",
    "\tmainStructure = CUBOID([mainStructureWidth,dy*.95, dz*.97])\n",
    "\tmainStructure = T([1])([dx*.025])(mainStructure)\n",
    "\tmainStructure = COLOR(brown)(mainStructure)\n",
    "\n",
    "\tdivider = CUBOID([dividerWidth/2., dy, dz])\n",
    "\tdivider = COLOR(brown)(divider)\n",
    "\tdividers = [divider, T([1])([dx*.975])(divider)]\n",
    "\n",
    "\tdoor = CUBOID([mainStructureWidth/2, dy*.025, dz*.9])\n",
    "\tdoor = COLOR(waterGreen)(door)\n",
    "\tdoor = T([1,2,3])([dividerWidth/2., dy*.95, dz*.06])(door)\n",
    "\tdoors = [door, T([1])([dividerWidth/2. + SIZE([1])(door)[0] - dx*.02]), door]\n",
    "\n",
    "\tknob = SPHERE(.02)([30,30])\n",
    "\tknob = JOIN(SKEL_1(knob))\n",
    "\tknob = COLOR(brown)(knob)\n",
    "\tknob = T([1,2,3])([dx*.45, dy*.99, dz*.5])(knob)\n",
    "\n",
    "\tcloset.append(mainStructure)\n",
    "\tcloset.append(box)\n",
    "\tcloset.append(knob)\n",
    "\tcloset = closet + dividers + doors\n",
    "\tcloset = STRUCT(closet)\n",
    "\treturn closet"
   ]
  },
  {
   "cell_type": "markdown",
   "metadata": {},
   "source": [
    "#### List of variables:\n",
    "* brown and waterGreen: represent the color in RGB.\n",
    "* closet: list that contain more HPC of the result.\n",
    "* dividerWidth: represet the width of the walls on the side of the closet.\n",
    "* mainStructureWidth: represent width of the main structure of the closet.\n",
    "* mainStructure: HPC CUBOID represent the main structure of the closet.\n",
    "* divider: HPC CUBOID represent the wall on the side of the closet.\n",
    "* dividers: contain two divider.\n",
    "* door: represent a door of the closet.\n",
    "* doors: contain two door.\n",
    "* knob: represent the knob for a door."
   ]
  },
  {
   "cell_type": "markdown",
   "metadata": {},
   "source": [
    "#### This is an example of the result:"
   ]
  },
  {
   "cell_type": "markdown",
   "metadata": {},
   "source": [
    "![title](img/Example_4.png)"
   ]
  },
  {
   "cell_type": "markdown",
   "metadata": {},
   "source": [
    "### The fifth and the last function is ggpl_main, that contain more HPC Model and build a classroom composed by four circle_table, a closet, a professor desk and a chair:"
   ]
  },
  {
   "cell_type": "code",
   "execution_count": 6,
   "metadata": {
    "collapsed": true
   },
   "outputs": [],
   "source": [
    "def ggpl_main():\n",
    "\t\"\"\"\n",
    "\tggpl_main represent the main function, that contain more HPC Model and build a classroom.\n",
    "\t@return classroom: HPC Model represent the classroom with more HPC Model.\n",
    "\t\"\"\"\n",
    "\tfirstTable = ggpl_circle_table(2,2,1)\n",
    "\tfirstTable = STRUCT([firstTable, T([1])([3]), firstTable])\n",
    "\n",
    "\ttables = STRUCT([firstTable, T([2])([3]), firstTable])\n",
    "\n",
    "\tdesk = ggpl_professor_desk(1.5,1.,1.25)\n",
    "\n",
    "\tchair = ggpl_chair(.8,.7,1.5)\n",
    "\tchair = T([1,2])([.3, -.5])(chair)\n",
    "\n",
    "\tcloset = ggpl_closet(2,.8,2)\n",
    "\tcloset = T([2])([-2.5])(closet)\n",
    "\n",
    "\tchairAndDesk = STRUCT([chair, desk])\n",
    "\tchairAndDesk = R([1,2])(PI/2)(chairAndDesk)\n",
    "\tchairAndDesk = T([1,2])([5.5,.5])(chairAndDesk)\n",
    "\n",
    "\tclassroom = STRUCT([tables, chairAndDesk, closet])\n",
    "\n",
    "\tplatform = SIZE([1,2])(classroom)\n",
    "\tplatform[0] = platform[0] + .3*platform[0]\n",
    "\tplatform[1] = platform[1] + .3*platform[1]\n",
    "\tplatform = PROD([Q(platform[0]), Q(platform[1])])\n",
    "\tplatform = T([1,2])([-SIZE([1])(platform)[0]/2. + 2., -SIZE([2])(platform)[0]/2. + .5])(platform)\n",
    "\tplatform = COLOR(Color4f([232/255., 168/255., 134/255., 1]))(platform)\n",
    "\n",
    "\treturn STRUCT([classroom, platform])"
   ]
  },
  {
   "cell_type": "markdown",
   "metadata": {},
   "source": [
    "#### List of the variables:\n",
    "* firstTable: represent a circle_table\n",
    "* tables: list that contain four tables.\n",
    "* desk: represent a professor desk.\n",
    "* chair: represent a professor chair.\n",
    "* closet: represent a closet.\n",
    "* chairAndDesk: represent a struct for chair and desk.\n",
    "* classroom: Object that contain table, chair, desk and closet.\n",
    "* platform: represent the platform of the room."
   ]
  },
  {
   "cell_type": "markdown",
   "metadata": {},
   "source": [
    "#### This is an example of the result:"
   ]
  },
  {
   "cell_type": "markdown",
   "metadata": {},
   "source": [
    "![title](img/Example_5.png)"
   ]
  },
  {
   "cell_type": "code",
   "execution_count": null,
   "metadata": {
    "collapsed": true
   },
   "outputs": [],
   "source": []
  }
 ],
 "metadata": {
  "anaconda-cloud": {},
  "kernelspec": {
   "display_name": "Python [conda root]",
   "language": "python",
   "name": "conda-root-py"
  },
  "language_info": {
   "codemirror_mode": {
    "name": "ipython",
    "version": 2
   },
   "file_extension": ".py",
   "mimetype": "text/x-python",
   "name": "python",
   "nbconvert_exporter": "python",
   "pygments_lexer": "ipython2",
   "version": "2.7.12"
  }
 },
 "nbformat": 4,
 "nbformat_minor": 1
}
