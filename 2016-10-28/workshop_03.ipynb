{
 "cells": [
  {
   "cell_type": "markdown",
   "metadata": {},
   "source": [
    "# Parametric concrete stairs"
   ]
  },
  {
   "cell_type": "markdown",
   "metadata": {},
   "source": [
    "### I defined a single Python function named ggpl_quarter_turn_stairs, with a (dx, dy, dz) parameter, that represent the X, Y and Z value of the box that contain the stairs.\n",
    "### I choosed the model represented in Figure: "
   ]
  },
  {
   "cell_type": "markdown",
   "metadata": {},
   "source": [
    "![alt tag](https://www.keuka-studios.com/wp-content/uploads/2015/02/Quarter-Turn-Stairs.jpg)"
   ]
  },
  {
   "cell_type": "markdown",
   "metadata": {},
   "source": [
    "### List the variables that I used in my code:"
   ]
  },
  {
   "cell_type": "markdown",
   "metadata": {},
   "source": [
    "* riser: represent the step's riser.\n",
    "* tread: represent the step's tread.\n",
    "* lengthOfFlight: represent the ramp length.\n",
    "* firstRamp, secondRamp and thirdRamp: represent rispectively height to the ramps.\n",
    "* stepNumberFirst, stepNumberSecond, stepNumberThird: represent rispectively the number of the steps in a ramp.\n",
    "* firstStep: represent the first step of the ramp.\n",
    "* steps: represent the list of the ramp's steps.\n",
    "* firstPlatformX, firstPlatformY: represent the X value of the first (all) platform.\n",
    "* platform: represent a platform.\n",
    "* secondStair: represent the second ramp with X is equal to Y, of the first ramp.\n",
    "* thirdStair: represent the third ramp, that is equal to first ramp, but with translation.\n",
    "* stairs: represent a list, that contain all element."
   ]
  },
  {
   "cell_type": "markdown",
   "metadata": {},
   "source": [
    "## Description of the code:"
   ]
  },
  {
   "cell_type": "markdown",
   "metadata": {},
   "source": [
    "### I used a helpers function that generate steps for a ramp:"
   ]
  },
  {
   "cell_type": "code",
   "execution_count": 3,
   "metadata": {
    "collapsed": true
   },
   "outputs": [],
   "source": [
    "def generate_steps(stepNumber, tread, riser, stepWidth):\n",
    "\t\"\"\"\n",
    "\tgenerate_steps is a function that, given a stepNumber represent the number of the step, tread represent the depth of the step, \n",
    "\triser represent the height of the step and at the end stepWidth that represent the width of the step. \n",
    "\tReturn a list that contain the steps.\n",
    "\n",
    "\t@param stepNumber: Number of the steps\n",
    "\t@param tread: Number, represent depth of the step\n",
    "\t@param riser: Number, represent height of the single step\n",
    "\t@param stepWidth: Number, represent width of the all step\n",
    "\t@return steps: List, that contain all steps.\n",
    "\t\"\"\"\n",
    "\tstep2d = MKPOL([[[tread, 0],[tread, riser*2], [tread*2, riser*2], [tread*2, riser]], [[1,2,3,4]], None])\n",
    "\tsteps = []\n",
    "\tfirstStep = CUBOID([tread, riser, stepWidth])\n",
    "\tsteps.append(firstStep)\n",
    "\n",
    "\tfor i in range(int(stepNumber-1)):\n",
    "\t\tsteps.append(T([1,2])([(tread*i), riser*i])(PROD([step2d, Q(stepWidth)])))\n",
    "\n",
    "\treturn steps"
   ]
  },
  {
   "cell_type": "markdown",
   "metadata": {},
   "source": [
    "### In this function I generated the intermediate steps with standard function MKPOL, and the first step with standard function CUBOID, at the end pushed the first step and the N intermediate step in a list."
   ]
  },
  {
   "cell_type": "markdown",
   "metadata": {},
   "source": [
    "### The main function:"
   ]
  },
  {
   "cell_type": "code",
   "execution_count": 4,
   "metadata": {
    "collapsed": true
   },
   "outputs": [],
   "source": [
    "def ggpl_quarter_turn_stairs(dx, dy, dz):\n",
    "\t\"\"\"\n",
    "\tggpl_quarter_turn_stairs is a function, that generate a Quarter Turn Stairs, this function given a dx represent the X value of the box \n",
    "\tthat contain the stairs, dy represent the Y value of the box, and at the end dz that represent the Z value of the box.\n",
    "\tReturn a HPC Model.\n",
    "\n",
    "\t@param dx: Number, represent the X value of the box.\n",
    "\t@param dy: Number, represent the Y value of the box.\n",
    "\t@param dz: Number, represent the Z value of the box.\n",
    "\t@return quarterTurnStairs: HPC Model of the space frame.\n",
    "\t\"\"\"\n",
    "\triser = .2\n",
    "\ttread = .35\n",
    "\tlengthOfFlight = dz - (riser*2)\n",
    "\tfirstRamp = lengthOfFlight/3.\n",
    "\tsecondRamp = lengthOfFlight/3.\n",
    "\tthirdRamp = lengthOfFlight/3.\n",
    "\tstepNumberFirst = math.ceil(firstRamp / riser)\n",
    "\tstepNumberSecond = math.ceil(secondRamp / riser) \n",
    "\tstepNumberThird = math.ceil(thirdRamp / riser)\n",
    "\n",
    "\tfirstPlatformX = dx / 3.\n",
    "\n",
    "\tstairs = generate_steps(stepNumberFirst, tread, riser, firstPlatformX)\n",
    "\n",
    "\tfirstPlatformY = dy - tread * stepNumberFirst\n",
    "\n",
    "\tplatform = CUBOID([firstPlatformY, riser, firstPlatformX])\n",
    "\tstairs.append(T([1,2])([tread*stepNumberFirst, riser*stepNumberFirst-riser])(platform))\n",
    "\n",
    "\tsecondStair = generate_steps(stepNumberSecond, tread, riser, firstPlatformY)[1:]\n",
    "\tsecondStair = R([1,3])(PI/2)(STRUCT(secondStair))\n",
    "\tsecondStair = T([1,2,3])([dy, riser*stepNumberFirst-riser, firstPlatformX-tread])(secondStair)\n",
    "\tstairs.append(secondStair)\n",
    "\n",
    "\tstairs.append(T([1,2,3])([tread*stepNumberFirst, (riser*stepNumberFirst)-(riser*2)+(riser*stepNumberSecond), (firstPlatformX -tread + tread*stepNumberSecond)])(platform))\n",
    "\n",
    "\tthirdStair = generate_steps(stepNumberThird, tread, riser, firstPlatformX)[1:]\n",
    "\tthirdStair = R([1,3])(PI)(STRUCT(thirdStair))\n",
    "\tthirdStair = T([1,2,3])([tread*stepNumberFirst + tread, (riser*stepNumberFirst)-(riser*2)+(riser*stepNumberSecond), ((firstPlatformX*2) -tread + tread*stepNumberSecond)])(thirdStair)\n",
    "\tstairs.append(thirdStair)\n",
    "\n",
    "\tstairs.append(SKEL_1(BOX([1,2,3])(STRUCT(stairs))))\n",
    "\n",
    "\tquarterTurnStairs = MAP([S1,S3,S2])(STRUCT(stairs))\n",
    "\n",
    "\treturn quarterTurnStairs"
   ]
  },
  {
   "cell_type": "markdown",
   "metadata": {},
   "source": [
    "### In this function, I calculate the number of steps as difference ramp height and riser. I generated the first ramp and the first platform and add at the list stairs, the same thing for second and third ramp, with translation and without first element of generate_steps, because it isn't have the first step, at the end append at the list stairs the skeleton of the BOX, and STRUCT the stairs list, and MAP the HPC Model to the correctly axes."
   ]
  },
  {
   "cell_type": "markdown",
   "metadata": {},
   "source": [
    "## Examples of Result:"
   ]
  },
  {
   "cell_type": "markdown",
   "metadata": {},
   "source": [
    "* Example 1:"
   ]
  },
  {
   "cell_type": "markdown",
   "metadata": {},
   "source": [
    "![title](img/Example_1.png)"
   ]
  },
  {
   "cell_type": "markdown",
   "metadata": {},
   "source": [
    "### In this example I invoke the function with ggpl_quarter_turn_stairs(5,5,5)"
   ]
  },
  {
   "cell_type": "markdown",
   "metadata": {
    "collapsed": true
   },
   "source": [
    "* Example 2:"
   ]
  },
  {
   "cell_type": "markdown",
   "metadata": {},
   "source": [
    "![title](img/Example_2.png)"
   ]
  },
  {
   "cell_type": "markdown",
   "metadata": {},
   "source": [
    "### In this example I invoke the function with ggpl_quarter_turn_stairs(4,5,6)"
   ]
  },
  {
   "cell_type": "code",
   "execution_count": null,
   "metadata": {
    "collapsed": true
   },
   "outputs": [],
   "source": []
  }
 ],
 "metadata": {
  "anaconda-cloud": {},
  "kernelspec": {
   "display_name": "Python [conda root]",
   "language": "python",
   "name": "conda-root-py"
  },
  "language_info": {
   "codemirror_mode": {
    "name": "ipython",
    "version": 2
   },
   "file_extension": ".py",
   "mimetype": "text/x-python",
   "name": "python",
   "nbconvert_exporter": "python",
   "pygments_lexer": "ipython2",
   "version": "2.7.12"
  }
 },
 "nbformat": 4,
 "nbformat_minor": 1
}
