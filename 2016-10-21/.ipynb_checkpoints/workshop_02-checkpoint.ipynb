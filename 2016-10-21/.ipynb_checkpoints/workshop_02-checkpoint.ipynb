{
 "cells": [
  {
   "cell_type": "markdown",
   "metadata": {
    "collapsed": true
   },
   "source": [
    "# Parametric building frame in reinforced concrete\n",
    "### I define a single Python function, named ggpl_bone_structure, with a single parameter file_name that, is localize in local directory, the function return a 3D value of type HPC, representing the bone structure of a reinforced concrete building. I define a helpers functions, the first defined in workshop_01, the second function generate_beams, with a single parameter file_name and generate beams for building frame, and another function is intersperse, with two parameters, the first is a python list, the second is an element, and return the combination.\n",
    "\n",
    "### An example:"
   ]
  },
  {
   "cell_type": "markdown",
   "metadata": {},
   "source": [
    "![alt example model](http://www.ingenio-web.it/immagini/CKEditor/Imm_2.jpg)"
   ]
  },
  {
   "cell_type": "markdown",
   "metadata": {},
   "source": [
    "# I use this dataset in CSV Example: "
   ]
  },
  {
   "cell_type": "markdown",
   "metadata": {},
   "source": [
    "```\n",
    "0;0;0\n",
    "(.4,.5);(.8,.8);[-4.,-4.,-4.,-4.,-4.,-4.];[-4.,-4.,-4.,-4.]\n",
    "10;0;0\n",
    "(.4,.5);(.8,.8);[-4.,-4.,-4.,-4.,-4.,-4.];[-4.,-4.,-4.,-4.]\n",
    "10;0;0\n",
    "(.4,.5);(.8,.8);[-4.,-4.,-4.,-4.,-4.,-4.];[-4.,-4.,-4.,-4.]\n",
    "10;0;0\n",
    "(.4,.5);(.8,.8);[-4.,-4.,-4.,-4.,-4.,-4.];[-4.,-4.,-4.,-4.]\n",
    "10;0;0\n",
    "(.4,.5);(.8,.8);[-4.,-4.,-4.,-4.,-4.,-4.];[-4.,-4.,-4.,-4.]\n",
    "10;0;0\n",
    "(.4,.5);(.8,.8);[-4.,-4.,-4.,-4.,-4.,-4.];[-4.,-4.,-4.,-4.]\n",
    "10;0;0\n",
    "(.4,.5);(.8,.8);[-4.,-4.,-4.,-4.,-4.,-4.];[-4.,-4.,-4.,-4.]\n",
    "10;0;0\n",
    "(.4,.5);(.8,.8);[-4.,-4.,-4.,-4.,-4.,-4.];[-4.,-4.,-4.,-4.]\n",
    "10;0;0\n",
    "(.4,.5);(.8,.8);[-4.,-4.,-4.,-4.,-4.,-4.];[-4.,-4.,-4.,-4.]\n",
    "```"
   ]
  },
  {
   "cell_type": "markdown",
   "metadata": {},
   "source": [
    "### This file include in odd lines: \n",
    "* The 3D vector positioning the local origin of the next frame with respect to the local origin of the previous one.\n",
    "* The first such vector sets the origin of the first frame.\n",
    "### And in even lines: \n",
    "* The actual parameters of a planar concrete frame, according to the scheme of formal paremeters required by the ggpl function developed in workshop_01"
   ]
  },
  {
   "cell_type": "markdown",
   "metadata": {},
   "source": [
    "## This is the first helper function (drawStructure): "
   ]
  },
  {
   "cell_type": "code",
   "execution_count": 3,
   "metadata": {
    "collapsed": true
   },
   "outputs": [],
   "source": [
    "def drawStructure(beamDimensions, pillarDimensions, pillarDistances, interstoryHeights):\n",
    "    \"\"\"\n",
    "    drawStructure is a function that, given beam's dimensions, pillars's dimensions, distances between the pillars (y-axis),\n",
    "    interstory's heights (z-axis), return an HPC model of a space frame of reinforced concrete.\n",
    " \n",
    "    @param beamDimensions: tuple, representing the dimensions of a beam (x,z)\n",
    "    @param pillarDimensions: tuple, representing the dimensions of a pillar (x,y)\n",
    "    @param pillarDistances: list representing the distances between pillars [dy1, dy2, ...]\n",
    "    @param interstoryHeights: list representing the heights of every interstory [dz1, dz2, dz3, ...]\n",
    "    @return model: HPC model of the space frame\n",
    "    \"\"\"\n",
    " \t\n",
    "    #generating values for the pillars Y-axis\n",
    "    pillarDistances = [0] + pillarDistances\n",
    "    linearPillars = intersperse(pillarDistances, pillarDimensions[1])\n",
    "   \n",
    "    #generating pillars HPC model\n",
    "    pillars3D = INSR(PROD)([QUOTE([pillarDimensions[0], -3]),QUOTE(linearPillars), QUOTE(intersperse([-interstory for interstory in interstoryHeights], -beamDimensions[1]))])\n",
    "           \n",
    "    #generating values for horizontal beams perpendicular to the Y-axis\n",
    "    horizontalBeamXYAxis = [pillarDimensions[0],-3]\n",
    "    horizontalBeamYYAxis = intersperse([-beam for beam in pillarDistances], pillarDimensions[1])\n",
    "    horizontalBeamYYAxis[0] = -horizontalBeamYYAxis[0]\n",
    "   \n",
    "    #generating HPC model of the beams perpendicular to the Y-axis\n",
    "    beamsY3D = INSR(PROD)([QUOTE(horizontalBeamXYAxis), QUOTE(horizontalBeamYYAxis), QUOTE(intersperse(interstoryHeights,beamDimensions[1]))])\n",
    "   \n",
    "    #assembling the HPC model\n",
    "    model = STRUCT([pillars3D, beamsY3D])\n",
    "    return model"
   ]
  },
  {
   "cell_type": "markdown",
   "metadata": {},
   "source": [
    "### This function return a simple parametric building structure in reinforced concrete (2D), with input (beamDimensions, pillarDimensions, pillarDistances, interstoryHeights), where beamDimension represents a Python tuple where the first element represent the X parameter and the second the Y parameter; pillarDimensions represents a Python tuple for Pillar, pillarDistances represents a Python list where the single element represent the ordered pillar's distance."
   ]
  },
  {
   "cell_type": "markdown",
   "metadata": {},
   "source": [
    "# This is the second helper function (generate_beams):"
   ]
  },
  {
   "cell_type": "code",
   "execution_count": 5,
   "metadata": {
    "collapsed": true
   },
   "outputs": [],
   "source": [
    "def generate_beams(file_name):\n",
    "\t\"\"\"\n",
    "\tgenerate_beams is a function that, given beam's structure\n",
    "\n",
    "\t@param file_name: string, representing the name of csv file in local directory\n",
    "\t@return beams: beams model of the space frame\n",
    "\t\"\"\"\n",
    "\twith open(file_name, 'rb') as file:\n",
    "\t\treader = csv.reader(file, delimiter=';')\n",
    "\t\tbeamlengthX = []\n",
    "\t\tbeamlengthZ = []\n",
    "\t\tdata = []\n",
    "\t\taccumulator = 0\n",
    "\t\tfor row in reader:\n",
    "\t\t\taccumulator = accumulator + 1\n",
    "\t\t\tdata.append(row)\n",
    "\t\t\tif(accumulator == 2):\n",
    "\t\t\t\tif(float(data[0][0]) == 0):\n",
    "\t\t\t\t\tbeamlengthX.append(-(make_tuple(data[1][1])[0]))\n",
    "\t\t\t\telse:\n",
    "\t\t\t\t\tbeamlengthX.append(float(data[0][0])-make_tuple(data[1][1])[0])\n",
    "\t\t\t\t\tbeamlengthX.append(-(make_tuple(data[1][1])[0]))\n",
    "\t\t\t\taccumulator = 0\n",
    "\t\t\t\tdata = []\n",
    "\twith open(file_name, 'rb') as file:\n",
    "\t\treader = csv.reader(file, delimiter=';')\n",
    "\t\tdata = []\n",
    "\t\tbeamlengthY = []\n",
    "\t\taccumulator = 0\n",
    "\t\tfor row in reader:\n",
    "\t\t\tbeamlengthY = []\n",
    "\t\t\taccumulator = accumulator + 1\n",
    "\t\t\tdata.append(row)\n",
    "\t\t\tif(accumulator == 2):\n",
    "\t\t\t\tbeamlengthY.append(make_tuple(data[1][1])[1])\n",
    "\t\t\t\tfor element in make_tuple(data[1][2]):\n",
    "\t\t\t\t\tbeamlengthY.append(element)\n",
    "\t\t\t\t\tbeamlengthY.append(make_tuple(data[1][1])[1])\n",
    "\t\t\t\taccumulator = 0\n",
    "\t\t\t\tdata = []\n",
    "\n",
    "\twith open(file_name, 'rb') as file:\n",
    "\t\treader = csv.reader(file, delimiter=';')\n",
    "\t\tbeamlengthZ = []\n",
    "\t\taccumulator = 0\n",
    "\t\tfor row in reader:\n",
    "\t\t\taccumulator += 1\n",
    "\t\t\tif(accumulator == 2):\n",
    "\t\t\t\tbeamlengthZ = intersperse(make_tuple(row[3]), make_tuple(row[0])[1])\n",
    "\t\t\t\tbreak\n",
    "\n",
    "\tbeams = INSR(PROD)([QUOTE(beamlengthX), QUOTE(beamlengthY), QUOTE(beamlengthZ)])\n",
    "\treturn beams"
   ]
  },
  {
   "cell_type": "markdown",
   "metadata": {},
   "source": [
    "### In this step calculate the beams axis X, Y, And Z. \n",
    "### This function generate a list for each axis, that contain the positive value and negative value for QUOTE standard pyplasm function, at the end exec a PROD.\n",
    "### In this function i use the standard python module, csv and ast (for transform string tuples and lists in python tuple and python lists"
   ]
  },
  {
   "cell_type": "markdown",
   "metadata": {},
   "source": [
    "# The main function:"
   ]
  },
  {
   "cell_type": "code",
   "execution_count": 6,
   "metadata": {
    "collapsed": true
   },
   "outputs": [],
   "source": [
    "def ggpl_bone_structure(file_name):\n",
    "\t\"\"\"\n",
    "\tggpl_bone_structure is a function that, given bone structure\n",
    "\n",
    "\t@param file_name: string, representing the name of csv file in local directory\n",
    "\t@return bone_structure: structure model of the space\n",
    "\t\"\"\"\n",
    "\twith open(file_name, 'rb') as file:\n",
    "\t\treader = csv.reader(file, delimiter=';')\n",
    "\n",
    "\t\tdata = []\n",
    "\t\tframeList = []\n",
    "\t\txdist = 0\n",
    "\t\tydist = 0 \n",
    "\t\tzdist = 0\n",
    "\t\tbeamlengthX = []\n",
    "\t\tbeamlengthZ = []\n",
    "\t\taccumulator = 0\n",
    "\t\tfor row in reader:\n",
    "\t\t\taccumulator = accumulator + 1\n",
    "\t\t\tdata.append(row)\n",
    "\t\t\tif(accumulator == 2):\n",
    "\t\t\t\tbeamlengthY = []\n",
    "\t\t\t\txdist = xdist + float(data[0][0])\n",
    "\t\t\t\tydist = ydist + float(data[0][1])\n",
    "\t\t\t\tzdist = zdist + float(data[0][2])\n",
    "\t\t\t\tmodel = drawStructure(make_tuple(data[1][0]), make_tuple(data[1][1]), make_tuple(data[1][2]), make_tuple(data[1][3]))\n",
    "\t\t\t\tframeElement = STRUCT([T(1)(xdist), T(2)(ydist), T(3)(zdist), model])\n",
    "\t\t\t\tframeList.append(STRUCT([frameElement]))\n",
    "\t\t\t\taccumulator = 0\n",
    "\t\t\t\tdata = []\n",
    "\n",
    "\t\tframeList.append(generate_beams(file_name))\n",
    "\t\tbone_structure = STRUCT(frameList)\n",
    "\t\treturn bone_structure"
   ]
  },
  {
   "cell_type": "markdown",
   "metadata": {},
   "source": [
    "### In this step, the function generate pillar base on CSV file, and invoke the helpers function, at the end exec STRUCT standard pyplasm function for structured the more object."
   ]
  }
 ],
 "metadata": {
  "anaconda-cloud": {},
  "kernelspec": {
   "display_name": "Python [default]",
   "language": "python",
   "name": "python2"
  },
  "language_info": {
   "codemirror_mode": {
    "name": "ipython",
    "version": 2
   },
   "file_extension": ".py",
   "mimetype": "text/x-python",
   "name": "python",
   "nbconvert_exporter": "python",
   "pygments_lexer": "ipython2",
   "version": "2.7.12"
  }
 },
 "nbformat": 4,
 "nbformat_minor": 1
}
