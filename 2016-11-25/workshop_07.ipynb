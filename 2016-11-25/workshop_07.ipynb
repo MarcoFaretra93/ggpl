{
 "cells": [
  {
   "cell_type": "markdown",
   "metadata": {},
   "source": [
    "# Wooden doors and windows"
   ]
  },
  {
   "cell_type": "markdown",
   "metadata": {},
   "source": [
    "### I defined two main function, one for window and one for door, and more helpers function. I choosed the model represent in figure:"
   ]
  },
  {
   "cell_type": "markdown",
   "metadata": {},
   "source": [
    "#### This model for door:"
   ]
  },
  {
   "cell_type": "markdown",
   "metadata": {},
   "source": [
    "![alt image](https://st.hzcdn.com/simgs/d1e18d700fd1054b_4-5592/contemporary-windows-and-doors.jpg)"
   ]
  },
  {
   "cell_type": "markdown",
   "metadata": {},
   "source": [
    "#### This model for window:"
   ]
  },
  {
   "cell_type": "markdown",
   "metadata": {},
   "source": [
    "![title](img/Example_1.png)"
   ]
  },
  {
   "cell_type": "markdown",
   "metadata": {},
   "source": [
    "## Description of the code:"
   ]
  },
  {
   "cell_type": "markdown",
   "metadata": {},
   "source": [
    "### The first function is window_main, with formal parameters (X, Y, occurency) that represent list of float, list of float and bool list respectively, and return the second level function that return a HPC Model:"
   ]
  },
  {
   "cell_type": "code",
   "execution_count": 1,
   "metadata": {
    "collapsed": true
   },
   "outputs": [],
   "source": [
    "def circle(r):\n",
    "\tdef circle0(p):\n",
    "\t\talpha = p[0]\n",
    "\t\treturn [r*COS(alpha), r*SIN(alpha)]\n",
    "\treturn circle0\n",
    "\n",
    "def window_main(X,Y,occurrency):\n",
    "\t\"\"\"\n",
    "\twindow_main is a function that generate HPC Model represent the window, parametric by dx, dy and dz.\n",
    "\t@param X: Float list of asix X of the window cells\n",
    "\t@param Y: Float list of asix Y of the window cells\n",
    "\t@param occurency: Bool matrix that represent the full cell and empty cell.\n",
    "\t@return windows_aux: function that return a HPC Model.\n",
    "\t\"\"\"\n",
    "\tdef window_aux(dx,dy,dz):\n",
    "\t\t\"\"\"\n",
    "\t\twindow_aux is the second level function of window_main.\n",
    "\t\t@param dx: represent the X value of the box that contain the window\n",
    "\t\t@param dy: represent the Y value of the box that contain the window\n",
    "\t\t@param dz: represent the Z value of the box that contain the window\n",
    "\t\t@return HPC Model: represent the window.\n",
    "\t\t\"\"\"\n",
    "\t\tbow = MAP(circle(dx/2.))(INTERVALS(PI)(50))\n",
    "\t\tbow = OFFSET([.1,.1,.1])(bow)\n",
    "\t\tbow = MAP([S1,S3,S2])(bow)\n",
    "\t\tbow = S(3)(.5)(bow)\n",
    "\t\tdz = dz - SIZE([3])(bow)[0]\n",
    "\t\tbow = T([1,3])([dx/2., dz])(bow)\n",
    "\t\tbow = S(2)(dy/SIZE([2])(bow)[0])(bow)\n",
    "\t\tbow = COLOR(Color4f([193/255., 154/255., 107/255., 1]))(bow)\n",
    "\t\tresizeXY(X,Y,occurrency, dx, dz)\n",
    "\t\tresult = []\n",
    "\t\tfor x_index in range(len(X)):\n",
    "\t\t\ty_quotes = []\n",
    "\t\t\tx_sum = sum(X[:x_index])\n",
    "\t\t\tfor y_index in range(len(Y)):\n",
    "\t\t\t\tif(occurrency[x_index][y_index] == False):\n",
    "\t\t\t\t\ty_quotes.append(-Y[y_index])\n",
    "\t\t\t\telse:\n",
    "\t\t\t\t\ty_quotes.append(Y[y_index])\n",
    "\t\t\tresult.append(PROD([ QUOTE([-x_sum, X[x_index]]), QUOTE(y_quotes)]))\n",
    "\t\tresult.append(BOX([dx,dz,dy]))\n",
    "\t\tres = STRUCT(result)\n",
    "\t\tres = PROD([res, Q(dy)])\n",
    "\t\tres = MAP([S1,S3,S2])(res)\n",
    "\t\tres = STRUCT([res,bow])\n",
    "\t\tres = COLOR(Color4f([193/255., 154/255., 107/255., 1]))(res)\n",
    "\t\treturn STRUCT([res,bow])\n",
    "\treturn window_aux"
   ]
  },
  {
   "cell_type": "markdown",
   "metadata": {},
   "source": [
    "#### List of variables: \n",
    "* bow: Represent the bow above to the window, and generate the bow with helpers function circle.\n",
    "* result and res: List that contain all HPC."
   ]
  },
  {
   "cell_type": "markdown",
   "metadata": {},
   "source": [
    "#### I generate the window with PROD and QUOTE Pyplasm function."
   ]
  },
  {
   "cell_type": "markdown",
   "metadata": {},
   "source": [
    "#### The helpers function associate at window_main is resizeXY, this function scale the empty space of a window base on dx and dz:"
   ]
  },
  {
   "cell_type": "code",
   "execution_count": 2,
   "metadata": {
    "collapsed": true
   },
   "outputs": [],
   "source": [
    "def resizeXY(X, Y, occurrency, dx, dz):\n",
    "\t\"\"\"\n",
    "\tresizeXY is a function that scale the empty space of a window base on dx and dz.\n",
    "\t@param X: Float list of asix X of the windows cells\n",
    "\t@param Y: Float list of asix Y of the windows cells\n",
    "\t@param occurrency: Bool matrix that represent the full cell and empty cell.\n",
    "\t@param dx: represent a X coordinate of the box\n",
    "\t@param dz: represent a Z coordinate of the box\t\n",
    "\t\"\"\"\n",
    "\tsumY = sum(Y) \n",
    "\tsumX = sum(X)\n",
    "\tvisitedY = [False]*len(Y)\n",
    "\tfor y_index in range(len(Y)):\n",
    "\t\tupdate = True\n",
    "\t\tfor x_index in range(len(X)):\n",
    "\t\t\tif(occurrency[x_index][y_index] == False):\n",
    "\t\t\t\tupdate = False \n",
    "\t\tif(update):\n",
    "\t\t\tsumY = sumY - Y[y_index]\n",
    "\t\t\tsumX = sumX - X[y_index]\n",
    "\t\t\tdx = dx - X[y_index]\n",
    "\t\t\tdz = dz - Y[y_index]\n",
    "\n",
    "\tfor x_index in range(len(X)):\n",
    "\t\tmodifyX = False\n",
    "\t\tfor y_index in range(len(Y)):\n",
    "\t\t\tif(occurrency[x_index][y_index] == False and visitedY[y_index] == False):\n",
    "\t\t\t\tY[y_index] = (dz * Y[y_index])/sumY\n",
    "\t\t\t\tvisitedY[y_index] = True\n",
    "\t\t\t\tmodifyX = True\n",
    "\t\t\tif(occurrency[x_index][y_index] == False and visitedY[y_index] == True and not modifyX):\n",
    "\t\t\t\tmodifyX = True\n",
    "\t\tif(modifyX):\n",
    "\t\t\tX[x_index] = (dx * X[x_index])/sumX"
   ]
  },
  {
   "cell_type": "markdown",
   "metadata": {},
   "source": [
    "#### In this solution I scaled the empty space with percentage the empty space to the total space in X and Y."
   ]
  },
  {
   "cell_type": "markdown",
   "metadata": {},
   "source": [
    "#### List of variables:\n",
    "* sumY: represent the sum of float in Y list.\n",
    "* sumX: represent the sum of float in X list.\n",
    "* visitedY: Bool list that contain True if coordinate is visited, else False.\n",
    "* modifyX: bool, that contain True if will modify the X value."
   ]
  },
  {
   "cell_type": "markdown",
   "metadata": {},
   "source": [
    "#### This is an Example of the result, invoke with parameters:"
   ]
  },
  {
   "cell_type": "code",
   "execution_count": 6,
   "metadata": {
    "collapsed": false
   },
   "outputs": [],
   "source": [
    "XWindow = [.1,.3,.05,.3,.1]\n",
    "YWindow = [.1,.3,.05,.3,.1]\n",
    "occurrencyWindow = [[True, True, True, True, True],\n",
    "\t\t\t  [True, False, True, False, True],\n",
    "\t\t\t  [True, True, True, True, True],\n",
    "\t\t\t  [True, False, True, False, True],\n",
    "\t\t\t  [True, True, True, True, True]]\n",
    "dx = 1\n",
    "dy = .2\n",
    "dz = 1.2"
   ]
  },
  {
   "cell_type": "markdown",
   "metadata": {},
   "source": [
    "![title](img/Example_2.png)"
   ]
  },
  {
   "cell_type": "markdown",
   "metadata": {},
   "source": [
    "![title](img/Example_3.png)"
   ]
  },
  {
   "cell_type": "markdown",
   "metadata": {},
   "source": [
    "### In the second function door_main,  with formal parameters (XDoor, YDoor, occurency) that represent list of float, list of float and bool list respectively, and return the second level function that return a HPC Model:"
   ]
  },
  {
   "cell_type": "code",
   "execution_count": 9,
   "metadata": {
    "collapsed": true
   },
   "outputs": [],
   "source": [
    "def door_main(XDoor,YDoor,occurrency):\n",
    "\t\"\"\"\n",
    "\tdoor_main is a function that generate the HPC Model represent the door, parametric by dx,dy and dz.\n",
    "\t@param XDoor: Float list of asix X of the door cells.\n",
    "\t@param YDoor: Float list of asix Y of the door cells.\n",
    "\t@param occurency: Bool matrix that represent the full cells and empty cells.\n",
    "\t@return door_aux: function that return a HPC Model.\n",
    "\t\"\"\"\n",
    "\tdef door_aux(dx,dy,dz):\n",
    "\t\t\"\"\"\n",
    "\t\tdoor_aux is the second level function of door_main. \n",
    "\t\t@param dx: represent the X value of the box that contain the door\n",
    "\t\t@param dy: represent the Y value of the box that contain the door\n",
    "\t\t@param dz: represent the Z value of the box that contain the door\n",
    "\t\t@return HPC Model: represent the door.\n",
    "\t\t\"\"\"\n",
    "\t\tresult = []\n",
    "\t\tcircle_door = MAP(circle(sum(YDoor[4:9])/2.*.6))(INTERVALS(2*PI)(50))\n",
    "\t\tcircle_door = JOIN(circle_door)\n",
    "\t\tcircle_door = PROD([circle_door, Q(dy/4.)])\n",
    "\t\tcircle_door = MAP([S1,S3,S2])(circle_door)\n",
    "\t\tcircle_door = T([1,2,3])([dx/2., dy-dy/4.+0.01, dz/2.])(circle_door)\n",
    "\t\tcircle_door = COLOR(Color4f([93/255., 94/255., 107/255., 1]))(circle_door)\n",
    "\t\tfor x_index in range(len(XDoor)):\n",
    "\t\t\ty_quotes = []\n",
    "\t\t\tx_sum = sum(XDoor[:x_index])\n",
    "\t\t\tfor y_index in range(len(YDoor)):\n",
    "\t\t\t\tif(occurrency[x_index][y_index] == False):\n",
    "\t\t\t\t\ty_quotes.append(-YDoor[y_index])\n",
    "\t\t\t\telse:\n",
    "\t\t\t\t\ty_quotes.append(YDoor[y_index])\n",
    "\t\t\tresult.append(PROD([ QUOTE([-x_sum, XDoor[x_index]]), QUOTE(y_quotes)]))\n",
    "\t\tresult.append(BOX([dx,dz,dy]))\n",
    "\t\tres = STRUCT(result)\n",
    "\t\tres = PROD([res, Q(dy)])\n",
    "\t\tres = MAP([S2,S3,S1])(res)\n",
    "\t\tres = S([1,2,3])([dx/SIZE([1])(res)[0], dy/SIZE([2])(res)[0], dz/SIZE([3])(res)[0]]) (res)\n",
    "\t\tres = COLOR(Color4f([93/255., 94/255., 107/255., 1]))(res)\n",
    "\t\tglass = CUBOID([SIZE([1])(res)[0]*0.9, dy/4.*0.9, SIZE([3])(res)[0]*0.9])\n",
    "\t\tglass = T([1,2,3])([dx*0.05, dy/8. + dy*0.05, dz*0.05])(glass)\n",
    "\t\tglass = COLOR(Color4f([38/255.,226/255.,189/255.,1]))(glass)\n",
    "\t\treturn STRUCT([res, circle_door, glass])\n",
    "\treturn door_aux"
   ]
  },
  {
   "cell_type": "markdown",
   "metadata": {},
   "source": [
    "#### List of variables:\n",
    "* circle_door: represent the circle generate with helpers function circle.\n",
    "* result and res: List that contain all HPC \n",
    "* glass: HPC Model represent the glass into the door."
   ]
  },
  {
   "cell_type": "markdown",
   "metadata": {},
   "source": [
    "#### this is an Example of the result, invoke with formal paremeters:"
   ]
  },
  {
   "cell_type": "code",
   "execution_count": 8,
   "metadata": {
    "collapsed": true
   },
   "outputs": [],
   "source": [
    "XDoor = [.2, .2, .05, .2, .05, .2, .3, .2, .05, .2 ,.05, .2, .2]\n",
    "YDoor = [.2, .2, .05, .2, .05, 1, .05, .2, .05, .2, .2]\n",
    "occurencyDoor = [[True, True, True, True, True, True, True, True, True, True, True, True, True],\n",
    "\t\t\t\t[True, False, False, False, False, False, True, False, False, False, False, False, True],\n",
    "\t\t\t\t[True, False, True, True, True, True, True, True, True, True, True, False, True], \n",
    "\t\t\t\t[True, False, True, False, False, False, True, False, False, False, True, False, True],\n",
    "\t\t\t\t[True, False, True, False, True, True, True, True, True, False, True, False, True],\n",
    "\t\t\t\t[True, False, True, False, True, False, True, False, True, False, True, False, True], \n",
    "\t\t\t\t[True, False, True, False, True, True, True, True, True, False, True, False, True],\n",
    "\t\t\t\t[True, False, True, False, False, False, True, False, False, False, True, False, True],\n",
    "\t\t\t\t[True, False, True, True, True, True, True, True, True, True, True, False, True],\n",
    "\t\t\t\t[True, False, False, False, False, False, True, False, False, False, False, False, True],\n",
    "\t\t\t\t[True, True, True, True, True, True, True, True, True, True, True, True, True]]\n",
    "\n",
    "dx = 1.5\n",
    "dy = .2\n",
    "dz = 2.5"
   ]
  },
  {
   "cell_type": "markdown",
   "metadata": {},
   "source": [
    "![title](img/Example_4.png)"
   ]
  },
  {
   "cell_type": "markdown",
   "metadata": {},
   "source": [
    "![title](img/Example_5.png)"
   ]
  },
  {
   "cell_type": "code",
   "execution_count": null,
   "metadata": {
    "collapsed": true
   },
   "outputs": [],
   "source": []
  }
 ],
 "metadata": {
  "anaconda-cloud": {},
  "kernelspec": {
   "display_name": "Python [default]",
   "language": "python",
   "name": "python2"
  },
  "language_info": {
   "codemirror_mode": {
    "name": "ipython",
    "version": 2
   },
   "file_extension": ".py",
   "mimetype": "text/x-python",
   "name": "python",
   "nbconvert_exporter": "python",
   "pygments_lexer": "ipython2",
   "version": "2.7.12"
  }
 },
 "nbformat": 4,
 "nbformat_minor": 1
}
