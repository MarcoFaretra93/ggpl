{
 "cells": [
  {
   "cell_type": "markdown",
   "metadata": {},
   "source": [
    "# Build roof by verts, angle and height"
   ]
  },
  {
   "cell_type": "markdown",
   "metadata": {},
   "source": [
    "### I defined a main function named buildRoof(verts, angle, height), with formal parameters, verts list of list of integer represent the verts, angle represent angle of the planes and height represent the height of the roof."
   ]
  },
  {
   "cell_type": "markdown",
   "metadata": {},
   "source": [
    "## Description of the code"
   ]
  },
  {
   "cell_type": "markdown",
   "metadata": {},
   "source": [
    "#### Main function:"
   ]
  },
  {
   "cell_type": "code",
   "execution_count": 1,
   "metadata": {
    "collapsed": true
   },
   "outputs": [],
   "source": [
    "def buildRoof(verts, angle, height):\n",
    "\t\"\"\"\n",
    "\tbuildRoof is a function that return a HPC Model represent the roof from the verts, angle and height.\n",
    "\t@param verts: list of list of integer represent the verts that define the shape of roof bottom.\n",
    "\t@param angle: integer represent the angle used to rotate the planes.\n",
    "\t@param height: integer represent the height of the roof.\n",
    "\t@return roof: HPC Model represent the roof.\n",
    "\t\"\"\"\n",
    "\tlines = transformList2CoupledList(verts)\n",
    "\n",
    "\tbase = SOLIDIFY(POLYLINE(verts + [verts[0]]))\n",
    "\n",
    "\tplanes = []\n",
    "\n",
    "\tfor line in lines:\n",
    "\t\tplanes.append(get4CoefficientsOfThePlane(angle, line))\n",
    "\n",
    "\tcouplePlanes = transformList2CoupledList(planes)\n",
    "\n",
    "\troofTop = []\n",
    "\tlinesEquations = []\n",
    "\n",
    "\t# calculating equations with planes intersection\n",
    "\tfor couple in couplePlanes:\n",
    "\t\tx, y, z = symbols('x y z')\n",
    "\t\tsolved = solve([Eq(couple[0][0]*x+couple[0][1]*y+couple[0][2]*z, couple[0][3]), \n",
    "\t\t\t\t\t\tEq(couple[1][0]*x+couple[1][1]*y+couple[1][2]*z, couple[1][3])])\n",
    "\t\tlinesEquations.append(solved)\n",
    "\t\troofTop.append([round(float(solved[x].subs(z,roofHeight)),2), round(float(solved[y].subs(z,roofHeight)),2)])\n",
    "\n",
    "\troofTop.append(roofTop[0])\n",
    "\tterrace = T([3])([roofHeight])(SOLIDIFY(POLYLINE(roofTop)))\n",
    "\n",
    "\tcoupleLines = transformList2CoupledList(linesEquations)\n",
    "\troofPitch = []\n",
    "\n",
    "\t#building roof pitches\n",
    "\tfor couple in coupleLines:\n",
    "\t\tbase1 = [round(float((couple[0])[x].subs(z,0)),2),round(float((couple[0])[y].subs(z,0)),2),0]\n",
    "\t\tbase2 = [round(float((couple[1])[x].subs(z,0)),2),round(float((couple[1])[y].subs(z,0)),2),0]\n",
    "\t\ttop1 = [round(float((couple[0])[x].subs(z,roofHeight)),2),round(float((couple[0])[y].subs(z,roofHeight)),2),roofHeight]\n",
    "\t\ttop2 = [round(float((couple[1])[x].subs(z,roofHeight)),2),round(float((couple[1])[y].subs(z,roofHeight)),2),roofHeight]\n",
    "\t\tpoints = [base1, base2, top2, top1, base1]\n",
    "\t\tfaces = [[1,2,3,4]]\n",
    "\t\troofPitch.append(TEXTURE(\"textures/roof.jpg\")(MKPOL([points, faces, 1])))\n",
    "\n",
    "\troofPitch = STRUCT(roofPitch)\n",
    "\n",
    "\treturn STRUCT([TEXTURE(\"textures/surface.jpg\")(terrace), base, roofPitch])"
   ]
  },
  {
   "cell_type": "markdown",
   "metadata": {},
   "source": [
    "#### the firts helper function:"
   ]
  },
  {
   "cell_type": "code",
   "execution_count": 2,
   "metadata": {
    "collapsed": true
   },
   "outputs": [],
   "source": [
    "def transformList2CoupledList(initList):\n",
    "\t\"\"\"\n",
    "\ttransformList2CoupledList is a function that return a list containing, for every element in the initList, a couple (python tuple)\n",
    "\tmade by the original element and its successor.\n",
    "\tExample : [1,2,3] -> [[1,2], [2,3], [3,1]]\n",
    "\t@param initList: integer list represent the initial list.\n",
    "\t@return coupleList: list of list of integer, represent the couple list.\n",
    "\t\"\"\"\n",
    "\tresult = []\n",
    "\tfor element in range(len(initList)-1):\n",
    "\t\tresult.append([initList[element], initList[element+1]])\n",
    "\tresult.append([initList[-1], initList[0]])\n",
    "\treturn result"
   ]
  },
  {
   "cell_type": "markdown",
   "metadata": {},
   "source": [
    "### This function give a initList, represent integer list and generate a coupleList (python tuple) represent the list of list of integer of the initial list.\n",
    "### Example: [1,2,3] -> [[1,2],[2,3],[3,1]]"
   ]
  },
  {
   "cell_type": "markdown",
   "metadata": {},
   "source": [
    "#### The second helper function:"
   ]
  },
  {
   "cell_type": "code",
   "execution_count": 3,
   "metadata": {
    "collapsed": true
   },
   "outputs": [],
   "source": [
    "def get4CoefficientsOfThePlane(angle, line):\n",
    "\t\"\"\"\n",
    "\tget4CoefficientsOfThePlane is a function that from angle and line, return a list containing the 4 coefficients that describe \n",
    "\ta plane passing through the line.\n",
    "\t@param angle: integer represent the angle used to rotate the planes.\n",
    "\t@param line: couple represent the verts of the line.\n",
    "\t@return planesParam: list that contain the 4 coefficients. \n",
    "\t\"\"\"\n",
    "\tpartialPlane = PROD([POLYLINE(line), QUOTE([2])])\n",
    "\tpartialPlane = T([1,2])([-line[0][0], -line[0][1]])(partialPlane)\n",
    "\tpartialPlane = ROTN([-angle, [line[1][0] - line[0][0], line[1][1] - line[0][1], 0]])(partialPlane)\n",
    "\tpartialPlane = T([1,2])([+line[0][0], +line[0][1]])(partialPlane)\n",
    "\n",
    "\t#obtain 3 points \n",
    "\tpoints = []\n",
    "\tpoints.append(UKPOL(partialPlane)[0][0])\n",
    "\tpoints.append(UKPOL(partialPlane)[0][1])\n",
    "\tpoints.append(UKPOL(partialPlane)[0][2])\n",
    "\n",
    "\tx1 = points[0][0]\n",
    "\tx2 = points[1][0]\n",
    "\tx3 = points[2][0]\n",
    "\ty1 = points[0][1]\n",
    "\ty2 = points[1][1]\n",
    "\ty3 = points[2][1]\n",
    "\tz1 = points[0][2]\n",
    "\tz2 = points[1][2]\n",
    "\tz3 = points[2][2]\n",
    "\n",
    "\t#calculate the vectors\n",
    "\tp1 = np.array([x1, y1, z1])\n",
    "\tp2 = np.array([x2, y2, z2])\n",
    "\tp3 = np.array([x3, y3, z3])\n",
    "\n",
    "\tv1 = p3 - p1\n",
    "\tv2 = p2 - p1 \n",
    "\t# this is a vector normal to the plane\n",
    "\tcp = np.cross(v1, v2)\n",
    "\ta, b, c = cp \n",
    "\n",
    "\t# This evaluates a * x3 + b * y3 + c * z3 which equals d\n",
    "\td = np.dot(cp, p3)\n",
    "\n",
    "\treturn [a,b,c,d]"
   ]
  },
  {
   "cell_type": "markdown",
   "metadata": {},
   "source": [
    "### This function calculate the 4 coefficients of the plane, passing through the line, from angle and line.\n",
    "### I used the numpy e sympy module for this function."
   ]
  },
  {
   "cell_type": "markdown",
   "metadata": {},
   "source": [
    "## Input Example"
   ]
  },
  {
   "cell_type": "markdown",
   "metadata": {},
   "source": [
    "### For the input I used this example:"
   ]
  },
  {
   "cell_type": "code",
   "execution_count": 6,
   "metadata": {
    "collapsed": false
   },
   "outputs": [
    {
     "name": "stdout",
     "output_type": "stream",
     "text": [
      "Evaluating fenvs.py..\n",
      "...fenvs.py imported in 0.006184 seconds\n"
     ]
    }
   ],
   "source": [
    "from pyplasm import *\n",
    "\n",
    "#roof vertices\n",
    "v1 = [0,0]\n",
    "v2 = [7,0]\n",
    "v3 = [7,5]\n",
    "v4 = [6,5]\n",
    "v5 = [7,7]\n",
    "v6 = [3,8]\n",
    "v7 = [0,7]\n",
    "\n",
    "roofHeight = 1\n",
    "\n",
    "angle = PI/3."
   ]
  },
  {
   "cell_type": "code",
   "execution_count": null,
   "metadata": {
    "collapsed": true
   },
   "outputs": [],
   "source": []
  }
 ],
 "metadata": {
  "anaconda-cloud": {},
  "kernelspec": {
   "display_name": "Python [conda root]",
   "language": "python",
   "name": "conda-root-py"
  },
  "language_info": {
   "codemirror_mode": {
    "name": "ipython",
    "version": 2
   },
   "file_extension": ".py",
   "mimetype": "text/x-python",
   "name": "python",
   "nbconvert_exporter": "python",
   "pygments_lexer": "ipython2",
   "version": "2.7.12"
  }
 },
 "nbformat": 4,
 "nbformat_minor": 1
}
